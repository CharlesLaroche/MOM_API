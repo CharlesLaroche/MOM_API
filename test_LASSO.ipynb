{
 "cells": [
  {
   "cell_type": "markdown",
   "metadata": {},
   "source": [
    "# MOM adaptation of the LASSO"
   ]
  },
  {
   "cell_type": "code",
   "execution_count": 2,
   "metadata": {},
   "outputs": [],
   "source": [
    "import numpy as np\n",
    "import matplotlib.pyplot as plt\n",
    "from math import *\n",
    "import time\n",
    "import matplotlib.pyplot as plt\n",
    "from momAPI.procedure.procedure_MOM import * \n",
    "from momAPI.procedure.random_data import *\n",
    "from momAPI.Linear_models.MOM_LASSO import mom_lasso\n",
    "from momAPI.Cross_validation.MOM_CV import cross_validation_V_fold"
   ]
  },
  {
   "cell_type": "code",
   "execution_count": 3,
   "metadata": {},
   "outputs": [],
   "source": [
    "plt.style.use(\"seaborn-darkgrid\")"
   ]
  },
  {
   "cell_type": "code",
   "execution_count": 20,
   "metadata": {},
   "outputs": [],
   "source": [
    "iter_max = 200\n",
    "n = 200\n",
    "n_outliers = 3\n",
    "features  =  50\n",
    "sparsity  =  10\n",
    "lamb  =  1 / np.sqrt(50)\n",
    "K1  =  5\n",
    "K2  =  7\n",
    "step_size1  =  0.01\n",
    "step_size2  =  0.003\n",
    "sigma  =  1\n",
    "t_0  =  create_t_0(features , sparsity)\n",
    "Y1,X1  =  data1(n , t_0 , 1)\n",
    "Y2,X2  =  data2(n_outliers , features , type_outliers  =  2)\n",
    "Y,X  =  data_merge(Y1, X1, Y2, X2)"
   ]
  },
  {
   "cell_type": "code",
   "execution_count": 21,
   "metadata": {},
   "outputs": [
    {
     "data": {
      "text/plain": [
       "Text(0.5, 0, 'Features number')"
      ]
     },
     "execution_count": 21,
     "metadata": {},
     "output_type": "execute_result"
    },
    {
     "data": {
      "image/png": "[encoded data removed]",
      "text/plain": [
       "<Figure size 432x288 with 1 Axes>"
      ]
     },
     "metadata": {
      "needs_background": "light"
     },
     "output_type": "display_data"
    }
   ],
   "source": [
    "%matplotlib inline\n",
    "model = mom_lasso(9 , lamb = 0.1 , iter_max = 200)\n",
    "model.fit(X , Y  , step_size = 0.0001 , initialize = \"random\")\n",
    "model.coefs()\n",
    "\n",
    "plt.scatter(np.arange(50) , t_0  , color = \"r\" , label = \"t_0\" , alpha = 0.5 )\n",
    "plt.scatter(np.arange(50) , model.coefs() , label = \"Estimation of t_0\" , color = 'black' , marker = \"+\")\n",
    "\n",
    "plt.legend()\n",
    "plt.title(\"Estimation of sparse linear regression with MOM LASSO\")\n",
    "plt.ylabel(\"Coefficient values\")\n",
    "plt.xlabel(\"Features number\")"
   ]
  },
  {
   "cell_type": "code",
   "execution_count": 27,
   "metadata": {},
   "outputs": [],
   "source": [
    "outliers = []\n",
    "for i in range(len(Y)):\n",
    "    \n",
    "    if i not in model.hist :\n",
    "        outliers.append(i)"
   ]
  },
  {
   "cell_type": "code",
   "execution_count": 28,
   "metadata": {},
   "outputs": [
    {
     "data": {
      "text/plain": [
       "array([ 1.00000000e+04, -4.11911174e+00,  1.00000000e+04,  1.00000000e+04])"
      ]
     },
     "execution_count": 28,
     "metadata": {},
     "output_type": "execute_result"
    }
   ],
   "source": [
    "Y[outliers]"
   ]
  },
  {
   "cell_type": "code",
   "execution_count": 33,
   "metadata": {},
   "outputs": [
    {
     "data": {
      "text/plain": [
       "(array([ 3.,  7.,  4., 10.,  7.,  4.,  8.,  7.,  8.,  3.,  8.,  3.,  3.,\n",
       "         7.,  3.,  0.,  9.,  5.,  9.,  8.,  6.,  3.,  3., 10.,  4.,  2.,\n",
       "         1.,  6.,  5.,  4.,  3.,  2.,  6.,  4.,  9.,  7.,  4.,  5.,  8.,\n",
       "         6., 13.,  6.,  1., 10.,  3.,  8.,  4.,  3.,  5.,  7.,  6.,  5.,\n",
       "         3.,  4.,  7.,  3.,  4.,  5.,  5.,  4.,  4.,  6.,  2.,  4.,  3.,\n",
       "         5.,  9.,  3.,  2.,  7.,  5.,  5., 11.,  3.,  8.,  5.,  3.,  2.,\n",
       "         5.,  0.,  3.,  7.,  4.,  5., 10.,  1.,  6.,  5.,  7.,  9.,  2.,\n",
       "         4.,  6.,  5.,  4.,  3.,  7.,  6.,  9.,  6.,  6.,  7.,  1.,  6.,\n",
       "         4., 12.,  3.,  5.,  7.,  5.,  6.,  8.,  6.,  1.,  6.,  8.,  3.,\n",
       "         5.,  2.,  5.,  6.,  7.,  4.,  7.,  3.,  5.,  9.,  5.,  4.,  5.,\n",
       "         5.,  5.,  7., 10.,  4.,  7.,  7.,  6.,  2.,  6.,  5., 11.,  5.,\n",
       "         9.,  4.,  8.,  5.,  5.,  5.,  8.,  5.,  6.,  3.,  4.,  3.,  6.,\n",
       "         8.,  8.,  6.,  3.,  5.,  3.,  5.,  6.,  7.,  2.,  7.,  8.,  7.,\n",
       "         7.,  6.,  0.,  3.,  3.,  6.,  4.,  7., 11.,  2.,  0.,  9.,  3.,\n",
       "         9.,  5.,  4.,  4.,  5.,  7.,  6.,  5.,  6.,  3.,  4.,  3.,  7.,\n",
       "         4.,  4.,  8., 13.]),\n",
       " array([  0,   1,   2,   3,   4,   5,   6,   7,   8,   9,  10,  11,  12,\n",
       "         13,  14,  15,  16,  17,  18,  19,  20,  21,  22,  23,  24,  25,\n",
       "         26,  27,  28,  29,  30,  31,  32,  33,  34,  35,  36,  37,  38,\n",
       "         39,  40,  41,  42,  43,  44,  45,  46,  47,  48,  49,  50,  51,\n",
       "         52,  53,  54,  55,  56,  57,  58,  59,  60,  61,  62,  63,  64,\n",
       "         65,  66,  67,  68,  69,  70,  71,  72,  73,  74,  75,  76,  77,\n",
       "         78,  79,  80,  81,  82,  83,  84,  85,  86,  87,  88,  89,  90,\n",
       "         91,  92,  93,  94,  95,  96,  97,  98,  99, 100, 101, 102, 103,\n",
       "        104, 105, 106, 107, 108, 109, 110, 111, 112, 113, 114, 115, 116,\n",
       "        117, 118, 119, 120, 121, 122, 123, 124, 125, 126, 127, 128, 129,\n",
       "        130, 131, 132, 133, 134, 135, 136, 137, 138, 139, 140, 141, 142,\n",
       "        143, 144, 145, 146, 147, 148, 149, 150, 151, 152, 153, 154, 155,\n",
       "        156, 157, 158, 159, 160, 161, 162, 163, 164, 165, 166, 167, 168,\n",
       "        169, 170, 171, 172, 173, 174, 175, 176, 177, 178, 179, 180, 181,\n",
       "        182, 183, 184, 185, 186, 187, 188, 189, 190, 191, 192, 193, 194,\n",
       "        195, 196, 197, 198, 199]),\n",
       " <a list of 199 Patch objects>)"
      ]
     },
     "execution_count": 33,
     "metadata": {},
     "output_type": "execute_result"
    },
    {
     "data": {
      "image/png": "[encoded data removed]",
      "text/plain": [
       "<Figure size 432x288 with 1 Axes>"
      ]
     },
     "metadata": {
      "needs_background": "light"
     },
     "output_type": "display_data"
    }
   ],
   "source": [
    "%matplotlib inline\n",
    "plt.hist(model.hist , bins = np.arange(200))"
   ]
  },
  {
   "cell_type": "markdown",
   "metadata": {},
   "source": [
    "### Adaptive choice of K"
   ]
  },
  {
   "cell_type": "code",
   "execution_count": 34,
   "metadata": {},
   "outputs": [],
   "source": [
    "def best_K(X , Y , mini , maxi , step):\n",
    "    \n",
    "    t1 = time.time()\n",
    "    _ , p = np.shape(X)\n",
    "    lamb = 1/ np.sqrt(p)\n",
    "    score = []\n",
    "    \n",
    "    for K in range(mini , maxi , step):\n",
    "        \n",
    "        model = mom_lasso(K)\n",
    "        score_step = cross_validation_V_fold(model , X , Y , 5 , K , random = True)\n",
    "        score.append(np.mean(score_step))\n",
    "        \n",
    "    t2 = time.time()\n",
    "    print(\"Time :\",(t2-t1) * 10000 // 1 / 10000,\"sec\")\n",
    "    return  mini + np.argmin(score) * step "
   ]
  },
  {
   "cell_type": "code",
   "execution_count": 35,
   "metadata": {},
   "outputs": [
    {
     "name": "stdout",
     "output_type": "stream",
     "text": [
      "Time : 25.3728 sec\n"
     ]
    },
    {
     "data": {
      "text/plain": [
       "16"
      ]
     },
     "execution_count": 35,
     "metadata": {},
     "output_type": "execute_result"
    }
   ],
   "source": [
    "iter_max = 200\n",
    "n = 2000\n",
    "n_outliers = 3\n",
    "features  =  50\n",
    "sparsity  =  10\n",
    "lamb  =  1\n",
    "K1  =  5\n",
    "K2  =  7\n",
    "step_size1  =  0.01\n",
    "step_size2  =  0.003\n",
    "sigma  =  1\n",
    "t_0  =  create_t_0(features,sparsity)\n",
    "Y1,X1  =  data1(n,t_0,1)\n",
    "Y2,X2  =  data2(n_outliers , features , type_outliers  =  2)\n",
    "\n",
    "Y,X  =  data_merge(Y1, X1, Y2, X2)\n",
    "\n",
    "best_K(X , Y , 1 , 80 , 5 )"
   ]
  },
  {
   "cell_type": "markdown",
   "metadata": {},
   "source": [
    "### Test of the robustness"
   ]
  },
  {
   "cell_type": "code",
   "execution_count": 99,
   "metadata": {},
   "outputs": [],
   "source": [
    "import numpy.linalg\n",
    "import progressbar\n",
    "from sklearn.model_selection import train_test_split\n",
    "from sklearn.metrics import mean_squared_error"
   ]
  },
  {
   "cell_type": "code",
   "execution_count": 45,
   "metadata": {},
   "outputs": [],
   "source": [
    "from sklearn.linear_model import Lasso"
   ]
  },
  {
   "cell_type": "markdown",
   "metadata": {},
   "source": [
    "One outliers"
   ]
  },
  {
   "cell_type": "code",
   "execution_count": 112,
   "metadata": {},
   "outputs": [
    {
     "name": "stderr",
     "output_type": "stream",
     "text": [
      "100% (10 of 10) |########################| Elapsed Time: 0:00:04 Time:  0:00:04\n"
     ]
    }
   ],
   "source": [
    "n = 1000\n",
    "sparsity  =  10\n",
    "features  =  50\n",
    "lamb  =  1 / np.sqrt(50)\n",
    "sigma  =  1\n",
    "t_0  =  create_t_0(features , sparsity)\n",
    "Y1 , X1  =  data1(n , t_0 , sigma)\n",
    "X_train , X_test , Y_train , Y_test = train_test_split(X1 , Y1)\n",
    "score_MOM = []\n",
    "score_classic = []\n",
    "bar = progressbar.progressbar\n",
    "\n",
    "for n_outliers in bar(range(1 , 100 , 10)) : \n",
    "    \n",
    "    X_train , X_test , Y_train , Y_test = train_test_split(X1 , Y1)\n",
    "    \n",
    "    #Data train corruption\n",
    "    if n_outliers != 0 : \n",
    "        Y2 , X2  =  data2(n_outliers , features , type_outliers  =  1)\n",
    "        Y_train , X_train = data_merge(Y_train , X_train , Y2 , X2)\n",
    "    \n",
    "    #Robust model training and evaluation\n",
    "    model = mom_lasso(62 , lamb = lamb)\n",
    "    model.fit(X_train, Y_train)\n",
    "    score_step = mean_squared_error(model.predict(X_test),Y_test)\n",
    "    score_MOM.append(np.mean(score_step))\n",
    "    \n",
    "    #Sklearn model training and evalutation\n",
    "    model_2 = Lasso()\n",
    "    model_2.fit(X_train, Y_train)\n",
    "    score_step_class = mean_squared_error(model_2.predict(X_test),Y_test)\n",
    "    score_classic.append(np.mean(score_step_class))"
   ]
  },
  {
   "cell_type": "code",
   "execution_count": 113,
   "metadata": {
    "scrolled": true
   },
   "outputs": [
    {
     "data": {
      "image/png": "[encoded data removed]",
      "text/plain": [
       "<Figure size 432x288 with 1 Axes>"
      ]
     },
     "metadata": {
      "needs_background": "light"
     },
     "output_type": "display_data"
    }
   ],
   "source": [
    "%matplotlib inline\n",
    "l = [(i * 10 )/1000 for i in range(10)]\n",
    "\n",
    "plt.plot(l , score_classic , color ='blue' , label = \"MSE of the classical LASSO\")\n",
    "plt.plot(l , score_MOM , color ='orange' , label = \"MSE of the MOM LASSO with K = 62\")\n",
    "plt.xlabel(\"Percent of type 1 outliers in training set\")\n",
    "plt.ylabel(\"MSE\")\n",
    "plt.legend()\n",
    "plt.title(\"MSE of the models\")\n",
    "#plt.yscale('log')\n",
    "plt.savefig('lasso_type_1.png')"
   ]
  },
  {
   "cell_type": "code",
   "execution_count": 104,
   "metadata": {},
   "outputs": [
    {
     "name": "stderr",
     "output_type": "stream",
     "text": [
      "100% (10 of 10) |########################| Elapsed Time: 0:00:04 Time:  0:00:04\n"
     ]
    }
   ],
   "source": [
    "n = 1000\n",
    "sparsity  =  10\n",
    "features  =  50\n",
    "lamb  =  1 / np.sqrt(50)\n",
    "sigma  =  1\n",
    "t_0  =  create_t_0(features , sparsity)\n",
    "Y1 , X1  =  data1(n , t_0 , sigma)\n",
    "X_train , X_test , Y_train , Y_test = train_test_split(X1 , Y1)\n",
    "score_MOM = []\n",
    "score_classic = []\n",
    "bar = progressbar.progressbar\n",
    "\n",
    "for n_outliers in bar(range(1 , 50 , 5)) : \n",
    "    X_train , X_test , Y_train , Y_test = train_test_split(X1 , Y1)\n",
    "    #Data train corruption\n",
    "    if n_outliers != 0 : \n",
    "        Y2 , X2  =  data2(n_outliers , features , type_outliers  =  2)\n",
    "        Y_train , X_train = data_merge(Y_train , X_train , Y2 , X2)\n",
    "    \n",
    "    #Robust model training and evaluation\n",
    "    model = mom_lasso(62 , lamb = lamb)\n",
    "    model.fit(X_train, Y_train)\n",
    "    score_step = mean_squared_error(model.predict(X_test),Y_test)\n",
    "    score_MOM.append(np.mean(score_step))\n",
    "    \n",
    "    #Sklearn model training and evalutation\n",
    "    model_2 = Lasso()\n",
    "    model_2.fit(X_train, Y_train)\n",
    "    score_step_class = mean_squared_error(model_2.predict(X_test),Y_test)\n",
    "    score_classic.append(np.mean(score_step_class))"
   ]
  },
  {
   "cell_type": "code",
   "execution_count": 105,
   "metadata": {},
   "outputs": [
    {
     "data": {
      "image/png": "[encoded data removed]",
      "text/plain": [
       "<Figure size 432x288 with 1 Axes>"
      ]
     },
     "metadata": {
      "needs_background": "light"
     },
     "output_type": "display_data"
    }
   ],
   "source": [
    "%matplotlib inline\n",
    "\n",
    "l = [(i * 5 )/1000 for i in range(10)]\n",
    "\n",
    "plt.plot(l , score_classic , color ='blue' , label = \"MSE of the classical LASSO\")\n",
    "plt.plot(l , score_MOM , color ='orange' , label = \"MSE of the MOM LASSO K = 62\")\n",
    "plt.xlabel(\"Percent of type 2 outliers in training set\")\n",
    "plt.ylabel(\"MSE\")\n",
    "plt.legend()\n",
    "plt.title(\"MSE of the models\")\n",
    "plt.yscale('log')\n",
    "plt.savefig('lasso_type_2.png')"
   ]
  },
  {
   "cell_type": "markdown",
   "metadata": {},
   "source": [
    "Heavy tail"
   ]
  },
  {
   "cell_type": "code",
   "execution_count": 87,
   "metadata": {},
   "outputs": [
    {
     "name": "stderr",
     "output_type": "stream",
     "text": [
      "100% (10 of 10) |########################| Elapsed Time: 0:00:07 Time:  0:00:07\n"
     ]
    }
   ],
   "source": [
    "n = 1000\n",
    "sparsity  =  10\n",
    "features  =  50\n",
    "lamb  =  1 / np.sqrt(50)\n",
    "sigma  =  1\n",
    "t_0  =  create_t_0(features , sparsity)\n",
    "Y1 , X1  =  data1(n , t_0 , sigma)\n",
    "X_train , X_test , Y_train , Y_test = train_test_split(X1 , Y1)\n",
    "score_MOM = []\n",
    "score_classic = []\n",
    "bar = progressbar.progressbar\n",
    "\n",
    "for n_outliers in bar(range(1 , 50 , 5)) : \n",
    "    \n",
    "    #Data train corruption\n",
    "    if n_outliers != 0 : \n",
    "        Y2 , X2  =  data3(n_outliers , t_0)\n",
    "        Y_train , X_train = data_merge(Y_train , X_train , Y2 , X2)\n",
    "    \n",
    "    #Robust model training and evaluation\n",
    "    model = mom_lasso(62 , lamb = lamb)\n",
    "    model.fit(X_train, Y_train)\n",
    "    score_step = np.sum(np.square(model.predict(X_test)-Y_test))\n",
    "    score_MOM.append(np.mean(score_step))\n",
    "    \n",
    "    #Sklearn model training and evalutation\n",
    "    model_2 = Lasso()\n",
    "    model_2.fit(X_train, Y_train)\n",
    "    score_step_class = np.sum(np.square(model_2.predict(X_test)-Y_test))\n",
    "    score_classic.append(np.mean(score_step_class))"
   ]
  },
  {
   "cell_type": "code",
   "execution_count": 89,
   "metadata": {},
   "outputs": [
    {
     "data": {
      "text/plain": [
       "Text(0.5, 1.0, 'MSE of the model')"
      ]
     },
     "execution_count": 89,
     "metadata": {},
     "output_type": "execute_result"
    },
    {
     "data": {
      "image/png": "[encoded data removed]",
      "text/plain": [
       "<Figure size 432x288 with 1 Axes>"
      ]
     },
     "metadata": {
      "needs_background": "light"
     },
     "output_type": "display_data"
    }
   ],
   "source": [
    "%matplotlib inline\n",
    "\n",
    "l = [(i * 5 )/1000 for i in range(10)]\n",
    "\n",
    "plt.plot(l , score_classic , color ='blue' , label = \"MSE of the classical LASSO\")\n",
    "plt.plot(l , score_MOM , color ='orange' , label = \"MSE of the MOM LASSO K = 62\")\n",
    "plt.xlabel(\"Percent of type 3 outliers in training set\")\n",
    "plt.ylabel(\"MSE\")\n",
    "plt.legend()\n",
    "plt.title(\"MSE of the model\")"
   ]
  },
  {
   "cell_type": "markdown",
   "metadata": {},
   "source": [
    "Source : [1] Regression shrinkage and selection via the lasso, Robert Tibshirani, 1996"
   ]
  }
 ],
 "metadata": {
  "kernelspec": {
   "display_name": "Python 3",
   "language": "python",
   "name": "python3"
  },
  "language_info": {
   "codemirror_mode": {
    "name": "ipython",
    "version": 3
   },
   "file_extension": ".py",
   "mimetype": "text/x-python",
   "name": "python",
   "nbconvert_exporter": "python",
   "pygments_lexer": "ipython3",
   "version": "3.5.2"
  }
 },
 "nbformat": 4,
 "nbformat_minor": 2
}
