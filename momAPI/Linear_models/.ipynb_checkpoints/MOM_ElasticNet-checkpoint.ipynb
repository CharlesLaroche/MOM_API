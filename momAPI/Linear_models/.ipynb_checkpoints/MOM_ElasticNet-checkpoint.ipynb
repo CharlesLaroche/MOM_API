{
 "cells": [
  {
   "cell_type": "markdown",
   "metadata": {},
   "source": [
    "# MOM Elastic_Net"
   ]
  },
  {
   "cell_type": "code",
   "execution_count": 1,
   "metadata": {},
   "outputs": [],
   "source": [
    "import sys,os"
   ]
  },
  {
   "cell_type": "code",
   "execution_count": 2,
   "metadata": {},
   "outputs": [],
   "source": [
    "sys.path.append(os.path.abspath('/Users/charleslaroche/Documents/GitHub/MOM-algorithms/procedure'))"
   ]
  },
  {
   "cell_type": "code",
   "execution_count": 3,
   "metadata": {},
   "outputs": [],
   "source": [
    "import random as rd\n",
    "import numpy as np\n",
    "import numpy.random as alea\n",
    "from sklearn.preprocessing import normalize\n",
    "import matplotlib.pyplot as plt\n",
    "from procedure_MOM import * \n",
    "from random_data import *\n",
    "\n",
    "plt.style.use('seaborn-darkgrid')\n",
    "%matplotlib notebook"
   ]
  },
  {
   "cell_type": "code",
   "execution_count": 4,
   "metadata": {},
   "outputs": [],
   "source": [
    "class MOM_ElasticNet():\n",
    "    \n",
    "    def __init__(self , rho=1., Lambda= 0 , K=1, random_state=True, max_iter=1000, tol=10e-5):\n",
    "        self.rho = rho\n",
    "        self.Lambda = Lambda\n",
    "        self.K = K\n",
    "        self.random_state = random_state\n",
    "        self.max_iter = max_iter\n",
    "        self.tol = tol\n",
    "        self.w = None\n",
    "        self.intercept = None\n",
    "        self.Loss = None\n",
    "    \n",
    "    def fit(self, X, y, bias = True , coef_init = None):\n",
    "        \n",
    "        self.bias = bias\n",
    "        self.hist = []\n",
    "        n_samples, n_features = X.shape\n",
    "        \n",
    "        if coef_init == None:\n",
    "            w = np.ones((n_features))\n",
    "            \n",
    "        elif w.shape[0] != n_features:\n",
    "            raise Error('Shape of coef array does not match number of features')\n",
    "            \n",
    "        else:\n",
    "            w = coef_init\n",
    "\n",
    "        block_size = n_samples // self.K\n",
    "            \n",
    "        X_corrected = (X - np.mean(X,axis=0)) / np.std(X,axis=0)\n",
    "        Residuals = y - X_corrected @ w\n",
    "        \n",
    "        Loss = np.empty(0)\n",
    "        var_w = self.tol + 1\n",
    "        n_iter = 0\n",
    "\n",
    "        while n_iter < self.max_iter and var_w > self.tol:    \n",
    "            \n",
    "            median_indexes = MOM(np.square(Residuals) , self.K)[1]\n",
    "            self.hist += median_indexes.tolist()\n",
    "        \n",
    "            X_mean = np.mean(X[median_indexes],axis=0)\n",
    "            X_std = np.std(X[median_indexes],axis=0)\n",
    "            X_corrected = (X - X_mean)/X_std\n",
    "            Residuals = y - X_corrected @ w\n",
    "\n",
    "            X_train = X_corrected[median_indexes]\n",
    "            R_train = Residuals[median_indexes]\n",
    "            Loss = np.append(Loss, 0.5 * np.mean(np.square(R_train)))\n",
    "        \n",
    "            var_w = 0\n",
    "        \n",
    "            for j in range(n_features):\n",
    "                w_j = w[j]\n",
    "                R_train = R_train + w_j * X_train[:,j]\n",
    "                w[j] = scalar_soft_thresholding(self.rho * self.Lambda , np.mean(R_train * X_train[:,j]))/(1 + self.Lambda * (1 - self.rho))\n",
    "                var_w += (w_j - w[j])**2\n",
    "        \n",
    "            n_iter += 1\n",
    "        \n",
    "        y_mean = np.mean(y[median_indexes])\n",
    "        self.Loss = Loss\n",
    "        self.w = w / X_std\n",
    "        self.intercept = y_mean - np.sum(self.w * X_mean)\n",
    "    \n",
    "    \n",
    "    def predict(self, X):\n",
    "        \n",
    "        return(self.intercept + np.dot(X,self.w))\n",
    "    \n",
    "    \n",
    "    def score(self , X , y):\n",
    "            \n",
    "        y_predict = self.intercept + X @ self.w\n",
    "        y_mean = np.mean(y)\n",
    "        return(1-(np.sum(np.square(y-y_predict)))/(np.sum(np.square(y-y_mean))))\n"
   ]
  },
  {
   "cell_type": "code",
   "execution_count": 5,
   "metadata": {},
   "outputs": [],
   "source": [
    "def graph_supp_detection(t_0,B) :\n",
    "    \n",
    "    p = np.shape(t_0)[0]\n",
    "    \n",
    "    plt.figure(figsize  =  (15, 4))\n",
    "    plt.stem(t_0, markerfmt = 'ro', label = 'true')\n",
    "    plt.title('t_0')\n",
    "    plt.figure(figsize  =  (15, 4))\n",
    "    plt.stem(B, markerfmt = 'ro', label = 'true')\n",
    "    plt.title('Approximation of t_0')"
   ]
  },
  {
   "cell_type": "markdown",
   "metadata": {},
   "source": [
    "### Test de l'algorithme de descente de coordonnées / Sans Outliers"
   ]
  },
  {
   "cell_type": "code",
   "execution_count": 6,
   "metadata": {
    "scrolled": true
   },
   "outputs": [
    {
     "data": {
      "image/png": "[encoded data removed]",
      "text/plain": [
       "<Figure size 432x288 with 1 Axes>"
      ]
     },
     "metadata": {},
     "output_type": "display_data"
    },
    {
     "data": {
      "text/plain": [
       "0.9961288441563843"
      ]
     },
     "execution_count": 6,
     "metadata": {},
     "output_type": "execute_result"
    }
   ],
   "source": [
    "n_samples = 10000\n",
    "t = create_t_0(50 , 10)\n",
    "sigma = 1\n",
    "\n",
    "Y , X = data1(n_samples , t , sigma)\n",
    "\n",
    "reg = MOM_ElasticNet()\n",
    "reg.fit(X,Y.flatten())\n",
    "\n",
    "plt.plot(reg.Loss)\n",
    "plt.show()\n",
    "\n",
    "reg.score(X,Y)"
   ]
  },
  {
   "cell_type": "code",
   "execution_count": 7,
   "metadata": {},
   "outputs": [
    {
     "data": {
      "text/plain": [
       "Text(0.5, 1.0, 'Sparse regression with MOM ElasticNet')"
      ]
     },
     "execution_count": 7,
     "metadata": {},
     "output_type": "execute_result"
    },
    {
     "data": {
      "image/png": "[encoded data removed]",
      "text/plain": [
       "<Figure size 432x288 with 1 Axes>"
      ]
     },
     "metadata": {},
     "output_type": "display_data"
    }
   ],
   "source": [
    "plt.scatter(np.arange(50) , t , color = 'red' , alpha = 0.5 , label = \"t_0\")\n",
    "plt.scatter(np.arange(50) , reg.w , color = \"black\" , marker = \"+\" , label = \"Estimation of t_0\")\n",
    "plt.legend()\n",
    "plt.xlabel(\"Features number\")\n",
    "plt.ylabel(\"Coefficient value\")\n",
    "plt.title('Sparse regression with MOM ElasticNet')"
   ]
  },
  {
   "cell_type": "markdown",
   "metadata": {},
   "source": [
    "### Test de l'algorithme de descente de coordonnées / Avec Outliers"
   ]
  },
  {
   "cell_type": "code",
   "execution_count": 8,
   "metadata": {
    "scrolled": true
   },
   "outputs": [
    {
     "name": "stdout",
     "output_type": "stream",
     "text": [
      "(20000,) (100,)\n"
     ]
    },
    {
     "data": {
      "image/png": "[encoded data removed]",
      "text/plain": [
       "<Figure size 432x288 with 1 Axes>"
      ]
     },
     "metadata": {},
     "output_type": "display_data"
    }
   ],
   "source": [
    "n_samples = 20000\n",
    "cov1 = np.identity((3))\n",
    "cov2 = np.array([2.5, 1., -0.8, 1., 0.5, 0.0, -0.8, 0.0, 7.6]).reshape((3,3))\n",
    "t = np.array([2.,1.,-4.])\n",
    "sigma = 1\n",
    "\n",
    "Y1,X1 = data1(n_samples , t , sigma)\n",
    "\n",
    "n_heavy_tail = 100\n",
    "Y2,X2 = data3(n_heavy_tail,t)\n",
    "\n",
    "n_outliers1 = 100\n",
    "Y3,X3 = data2(n_outliers1, 3, type_outliers = 1)\n",
    "\n",
    "n_outliers2 = 5\n",
    "Y4,X4 = data2(n_outliers2, 3, type_outliers = 2)\n",
    "\n",
    "print(Y1.shape,Y2.shape)\n",
    "Y5,X5 = data_merge(Y1,X1,Y2,X2)\n",
    "\n",
    "Y6,X6 = data_merge(Y5,X5,Y3,X3)\n",
    "\n",
    "Y,X = data_merge(Y6,X6,Y4,X4)\n",
    "\n",
    "reg = MOM_ElasticNet(rho = 0.2, Lambda = 0.0, K = 15, random_state = True, max_iter = 50, tol = 10**-4)\n",
    "reg.fit(X,Y)\n",
    "\n",
    "plt.plot(reg.Loss)\n",
    "plt.show()"
   ]
  },
  {
   "cell_type": "code",
   "execution_count": 9,
   "metadata": {},
   "outputs": [
    {
     "data": {
      "text/plain": [
       "Text(0.5, 1.0, 'Regression with outliers thanks to MOM ElasticNet')"
      ]
     },
     "execution_count": 9,
     "metadata": {},
     "output_type": "execute_result"
    },
    {
     "data": {
      "image/png": "[encoded data removed]",
      "text/plain": [
       "<Figure size 432x288 with 1 Axes>"
      ]
     },
     "metadata": {},
     "output_type": "display_data"
    }
   ],
   "source": [
    "plt.scatter(np.arange(3) , t , color = 'red' , alpha = 0.5 , label = \"t_0\")\n",
    "plt.scatter(np.arange(3) , reg.w , color = \"black\" , marker = \"+\" , label = 'Estimation of t_0')\n",
    "plt.legend()\n",
    "plt.xlabel(\"Features number\")\n",
    "plt.ylabel(\"Coefficient value\")\n",
    "plt.title('Regression with outliers thanks to MOM ElasticNet')"
   ]
  },
  {
   "cell_type": "markdown",
   "metadata": {},
   "source": [
    "On remarque dans la cellule ci-dessus qu'il est nécessaire que le nombre de blocks soient strictement plus grand que deux fois le nombre d'outliers : en effet si cette hypothèse n'est pas vérifiée et dans le cas ou les outliers seraient répartis dans des blocks différents, le block médian peut contenir un outlier et fausser l'apprentissage "
   ]
  },
  {
   "cell_type": "markdown",
   "metadata": {},
   "source": [
    "### Test de l'algorithme de descente de coordonnées / Sparsity"
   ]
  },
  {
   "cell_type": "code",
   "execution_count": 12,
   "metadata": {},
   "outputs": [
    {
     "data": {
      "image/png": "[encoded data removed]",
      "text/plain": [
       "<Figure size 432x288 with 1 Axes>"
      ]
     },
     "metadata": {},
     "output_type": "display_data"
    },
    {
     "data": {
      "text/plain": [
       "0.8856991602392503"
      ]
     },
     "execution_count": 12,
     "metadata": {},
     "output_type": "execute_result"
    }
   ],
   "source": [
    "n_samples = 5000\n",
    "cov1 = np.identity((50))\n",
    "t = create_t_0(50,5)\n",
    "sigma = 0.1\n",
    "Y1,X1 = data1(n_samples , t , sigma)\n",
    "\n",
    "n_heavy_tail = 10\n",
    "Y2,X2 = data3(n_heavy_tail,t)\n",
    "\n",
    "n_outliers1 = 20\n",
    "Y3,X3 = data2(n_outliers1, 50, type_outliers = 1)\n",
    "\n",
    "n_outliers2 = 4\n",
    "Y4,X4 = data2(n_outliers2, 50, type_outliers = 2)\n",
    "\n",
    "Y5,X5 = data_merge(Y1,X1,Y2,X2)\n",
    "Y6,X6 = data_merge(Y5,X5,Y3,X3)\n",
    "\n",
    "Y,X = data_merge(Y6,X6,Y4,X4)\n",
    "\n",
    "reg = MOM_ElasticNet(rho = 1, Lambda = 0.01, K = 15, random_state = True, max_iter = 50, tol = 10**-4)\n",
    "reg.fit(X,Y)\n",
    "\n",
    "plt.plot(np.arange(reg.Loss.shape[0]),reg.Loss)\n",
    "plt.show()\n",
    "\n",
    "reg.score(X1,Y1)"
   ]
  },
  {
   "cell_type": "code",
   "execution_count": 13,
   "metadata": {},
   "outputs": [
    {
     "data": {
      "text/plain": [
       "Text(0.5, 1.0, 'Sparse regression with MOM ElasticNet')"
      ]
     },
     "execution_count": 13,
     "metadata": {},
     "output_type": "execute_result"
    },
    {
     "data": {
      "image/png": "[encoded data removed]",
      "text/plain": [
       "<Figure size 432x288 with 1 Axes>"
      ]
     },
     "metadata": {},
     "output_type": "display_data"
    }
   ],
   "source": [
    "plt.scatter(np.arange(50) , t , color = 'red' , alpha = 0.5 , label = \"t_0\")\n",
    "plt.scatter(np.arange(50) , reg.w , color = \"black\" , marker = \"+\" , label = \"Estimation of t_0\")\n",
    "plt.xlabel(\"Features number\")\n",
    "plt.ylabel(\"Coefficient value\")\n",
    "plt.title('Sparse regression with MOM ElasticNet')"
   ]
  },
  {
   "cell_type": "code",
   "execution_count": null,
   "metadata": {},
   "outputs": [],
   "source": []
  }
 ],
 "metadata": {
  "kernelspec": {
   "display_name": "Python 3",
   "language": "python",
   "name": "python3"
  },
  "language_info": {
   "codemirror_mode": {
    "name": "ipython",
    "version": 3
   },
   "file_extension": ".py",
   "mimetype": "text/x-python",
   "name": "python",
   "nbconvert_exporter": "python",
   "pygments_lexer": "ipython3",
   "version": "3.6.8"
  }
 },
 "nbformat": 4,
 "nbformat_minor": 2
}
