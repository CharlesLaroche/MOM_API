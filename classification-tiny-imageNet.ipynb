{
 "cells": [
  {
   "cell_type": "code",
   "execution_count": 1,
   "metadata": {},
   "outputs": [
    {
     "name": "stdout",
     "output_type": "stream",
     "text": [
      "momAPI package\n",
      "In nn __init__\n",
      "In procedure __init__\n",
      "In Cross_validation __init__\n",
      "In Linear_models __init__\n"
     ]
    }
   ],
   "source": [
    "import os\n",
    "import torch\n",
    "import torch.nn as nn\n",
    "import numpy as np\n",
    "import numpy.random as alea\n",
    "import torch.nn.functional as F\n",
    "from PIL import Image\n",
    "from torchvision import transforms\n",
    "from random import *\n",
    "import matplotlib.pyplot as plt\n",
    "from sklearn.model_selection import train_test_split\n",
    "from sklearn.metrics import confusion_matrix\n",
    "import progressbar\n",
    "import momAPI.nn.indexed_dataset as indexed_dataset\n",
    "import momAPI.nn.utilities as utilities\n",
    "import momAPI.nn.MOM_training as MOM_training\n",
    "import momAPI.nn.MOM_sampler as MOM_sampler\n",
    "from math import log"
   ]
  },
  {
   "cell_type": "code",
   "execution_count": 2,
   "metadata": {},
   "outputs": [],
   "source": [
    "plt.style.use('seaborn-darkgrid')"
   ]
  },
  {
   "cell_type": "code",
   "execution_count": 3,
   "metadata": {},
   "outputs": [],
   "source": [
    "random_seed = 7\n",
    "alea.seed(random_seed)"
   ]
  },
  {
   "cell_type": "markdown",
   "metadata": {},
   "source": [
    "#### Data importation"
   ]
  },
  {
   "cell_type": "markdown",
   "metadata": {},
   "source": [
    "We want to classify the images of tiny-imageNet"
   ]
  },
  {
   "cell_type": "code",
   "execution_count": 4,
   "metadata": {
    "scrolled": false
   },
   "outputs": [
    {
     "name": "stderr",
     "output_type": "stream",
     "text": [
      "100% (10 of 10) |########################| Elapsed Time: 0:00:01 Time:  0:00:01\n"
     ]
    }
   ],
   "source": [
    "images = []\n",
    "targets = []\n",
    "min_n , min_p = 1000 , 1000\n",
    "n_samples, i = 0, 0\n",
    "types = os.listdir(\"data/tiny-imagenet-full/train\")\n",
    "for typ in progressbar.progressbar(types[:10]):\n",
    "    \n",
    "    file = os.listdir(\"data/tiny-imagenet-full/train/\" + typ + \"/images\")\n",
    "    \n",
    "    for f in file: \n",
    "        \n",
    "        img = Image.open(\"data/tiny-imagenet-full/train/\" + typ + \"/images/\" + f)\n",
    "        n,p = img.size\n",
    "        #height = min(n,p)\n",
    "        #box = ( 0 , 0 , height , height)\n",
    "        #img = img.crop(box)  # On rend l'image carré en la rognant\n",
    "        if len(np.array(img).shape) == 3 : \n",
    "            images.append(np.array(img)/255)\n",
    "            targets.append(i)\n",
    "        \n",
    "    i += 1"
   ]
  },
  {
   "cell_type": "code",
   "execution_count": 5,
   "metadata": {},
   "outputs": [],
   "source": [
    "X_train, X_test, Y_train, Y_test = train_test_split(images, targets, random_state = random_seed)"
   ]
  },
  {
   "cell_type": "code",
   "execution_count": 6,
   "metadata": {},
   "outputs": [],
   "source": [
    "target_train = torch.LongTensor(Y_train)\n",
    "target_test = torch.LongTensor(Y_test)"
   ]
  },
  {
   "cell_type": "markdown",
   "metadata": {},
   "source": [
    "### Data transformation"
   ]
  },
  {
   "cell_type": "markdown",
   "metadata": {},
   "source": [
    "First we create a transformer in order to transform np.array to torch.tensor with the channels in the first dimension."
   ]
  },
  {
   "cell_type": "code",
   "execution_count": 7,
   "metadata": {},
   "outputs": [],
   "source": [
    "transformer = transforms.Compose( [ transforms.ToTensor() ])"
   ]
  },
  {
   "cell_type": "code",
   "execution_count": 8,
   "metadata": {},
   "outputs": [],
   "source": [
    "data_train = indexed_dataset.Dataset(X_train , target_train , transform = transformer)\n",
    "data_test = indexed_dataset.Dataset(X_test , target_test , transform = transformer)"
   ]
  },
  {
   "cell_type": "markdown",
   "metadata": {},
   "source": [
    "### The network"
   ]
  },
  {
   "cell_type": "code",
   "execution_count": 60,
   "metadata": {},
   "outputs": [
    {
     "data": {
      "text/plain": [
       "0.9612903225806452"
      ]
     },
     "execution_count": 60,
     "metadata": {},
     "output_type": "execute_result"
    }
   ],
   "source": [
    "1- 30/775 "
   ]
  },
  {
   "cell_type": "code",
   "execution_count": 42,
   "metadata": {},
   "outputs": [],
   "source": [
    "class CNN(torch.nn.Module):\n",
    "    \n",
    "    #Our batch shape for input x is (3 , 64 , 64)\n",
    "    \n",
    "    def __init__(self):\n",
    "        super(CNN, self).__init__()\n",
    "        \n",
    "        #input channels = 3, output channels = 16\n",
    "        self.block_1 = nn.Sequential(torch.nn.Conv2d(3 , 32 , 3 , stride = 1 , padding = 0),\n",
    "                                     nn.BatchNorm2d(32),\n",
    "                                     nn.ReLU(),\n",
    "                                     torch.nn.MaxPool2d(3))\n",
    "        \n",
    "        #Input channels = 16, output channels = 32\n",
    "        self.block_2 = nn.Sequential(torch.nn.Conv2d(32 , 64 , 3 , stride = 1 , padding = 0),\n",
    "                                     nn.BatchNorm2d(64),\n",
    "                                     nn.ReLU(),\n",
    "                                     torch.nn.MaxPool2d(2))\n",
    "        \n",
    "        #Input channels = 32, output channels = 64\n",
    "        self.block_3 = nn.Sequential(torch.nn.Conv2d(64 , 128 , 3 , stride = 1 , padding = 0),\n",
    "                                     nn.BatchNorm2d(128),\n",
    "                                     nn.ReLU(),\n",
    "                                     torch.nn.MaxPool2d(2))\n",
    "        \n",
    "        #128 input features, 1 output features for binary classification\n",
    "        self.fc1 = torch.nn.Linear(1152, 10)\n",
    "        \n",
    "        self.conv_dropout = nn.Dropout2d(p = 0.0)\n",
    "        self.dense_dropout = nn.Dropout(p = 0.5)\n",
    "        \n",
    "    def forward(self, x):\n",
    "        #print(\"1:\", (x == x).all())\n",
    "        #Computes the Fivation of the first convolution\n",
    "        #Size changes from (3, 64, 64) to (16, 32, 32)\n",
    "        x = self.block_1(x)\n",
    "        #print(x.size())\n",
    "        #print(\"1:\", (x == x).all())\n",
    "        \n",
    "        #Size changes from (16, 32, 32) to (32, 16, 16)\n",
    "        x = self.block_2(x)\n",
    "        #print(x.size())\n",
    "        #print(\"2:\", (x == x).all())\n",
    "        \n",
    "        #Size changes from (32, 16, 16) to (64, 6, 6)\n",
    "        x = self.block_3(x)\n",
    "        #print(x.size())\n",
    "        #print(\"3:\", (x == x).all())\n",
    "        \n",
    "        #Reshape data to input to the input layer of the neural net\n",
    "        #Size changes from (128 , 1 , 1) to (1, 128)\n",
    "        #Recall that the -1 infers this dimension from the other given dimension\n",
    "        #print(x.size())\n",
    "        x = x.view(-1,1152)\n",
    "        \n",
    "        #Computes the Fivation of the fully connected layer\n",
    "        #Size changes from (1, 2304) to (1, 1)\n",
    "        x = torch.nn.functional.softmax(self.dense_dropout(self.fc1(x)),dim = 1)\n",
    "        \n",
    "        return(x)"
   ]
  },
  {
   "cell_type": "markdown",
   "metadata": {},
   "source": [
    "We use Adam optimizer and our loss is the classical cross entropy which on M classes can be calculated with the following formula : \n",
    "$$ CE(y,\\widehat{y}) = -\\sum_{c = 1}^{M}{y_c log(\\widehat{y}_c)+(1-y_c)log(1-\\widehat{y}_c)}$$\n",
    "with $y,\\widehat{y} \\in \\mathbb{R}^M$ and $y_i$ (resp $\\widehat{y}_i$) denotes the i-th element of y (resp $\\widehat{y}$)."
   ]
  },
  {
   "cell_type": "code",
   "execution_count": 43,
   "metadata": {},
   "outputs": [],
   "source": [
    "CNN_ = CNN()\n",
    "optimizer = torch.optim.Adam( CNN_.parameters(), lr=0.001, betas=(0.9, 0.999), eps=1e-08,\n",
    "                                          weight_decay=0, amsgrad=False)\n",
    "loss_ = torch.nn.CrossEntropyLoss()"
   ]
  },
  {
   "cell_type": "code",
   "execution_count": 44,
   "metadata": {},
   "outputs": [
    {
     "name": "stdout",
     "output_type": "stream",
     "text": [
      "Epoch n°0 ( 6.0 sec) : loss = 2.304337501525879 ,validation loss =  2.2993199825286865 , accuracy : 0.11925866236905722 , validation accuracy : 0.12399355877616747\n",
      "Epoch n°1 ( 6.0 sec) : loss = 2.2989258766174316 ,validation loss =  2.288688898086548 , accuracy : 0.136986301369863 , validation accuracy : 0.13526570048309178\n",
      "Epoch n°2 ( 6.0 sec) : loss = 2.2739436626434326 ,validation loss =  2.291412830352783 , accuracy : 0.13376309427880742 , validation accuracy : 0.10950080515297907\n",
      "Epoch n°3 ( 6.0 sec) : loss = 2.332693338394165 ,validation loss =  2.2819135189056396 , accuracy : 0.1434327155519742 , validation accuracy : 0.13365539452495975\n",
      "Epoch n°4 ( 6.0 sec) : loss = 2.2813913822174072 ,validation loss =  2.2788965702056885 , accuracy : 0.1380607037335482 , validation accuracy : 0.14412238325281804\n",
      "Epoch n°5 ( 6.0 sec) : loss = 2.2571349143981934 ,validation loss =  2.2744898796081543 , accuracy : 0.1415525114155251 , validation accuracy : 0.1529790660225443\n",
      "Epoch n°6 ( 6.0 sec) : loss = 2.264545440673828 ,validation loss =  2.2847061157226562 , accuracy : 0.14934192855224282 , validation accuracy : 0.14009661835748793\n",
      "Epoch n°7 ( 6.0 sec) : loss = 2.335393190383911 ,validation loss =  2.280177116394043 , accuracy : 0.1571313456889605 , validation accuracy : 0.15619967793880837\n",
      "Epoch n°8 ( 6.0 sec) : loss = 2.2890286445617676 ,validation loss =  2.2730932235717773 , accuracy : 0.1606231533709374 , validation accuracy : 0.16586151368760063\n",
      "Epoch n°9 ( 6.0 sec) : loss = 2.266646385192871 ,validation loss =  2.2693748474121094 , accuracy : 0.1681439699167338 , validation accuracy : 0.177938808373591\n",
      "Epoch n°10 ( 6.0 sec) : loss = 2.2176523208618164 ,validation loss =  2.269171953201294 , accuracy : 0.1716357775987107 , validation accuracy : 0.1570048309178744\n",
      "Epoch n°11 ( 6.0 sec) : loss = 2.340604066848755 ,validation loss =  2.2591686248779297 , accuracy : 0.1727101799623959 , validation accuracy : 0.16505636070853463\n",
      "Epoch n°12 ( 6.0 sec) : loss = 2.243090867996216 ,validation loss =  2.2599778175354004 , accuracy : 0.19016921837228043 , validation accuracy : 0.17391304347826086\n",
      "Epoch n°13 ( 6.0 sec) : loss = 2.2044386863708496 ,validation loss =  2.248912811279297 , accuracy : 0.19419822723609992 , validation accuracy : 0.17954911433172302\n",
      "Epoch n°14 ( 6.0 sec) : loss = 2.2675375938415527 ,validation loss =  2.249271869659424 , accuracy : 0.1925866236905721 , validation accuracy : 0.18276972624798712\n",
      "Epoch n°15 ( 6.0 sec) : loss = 2.2565090656280518 ,validation loss =  2.245858907699585 , accuracy : 0.1998388396454472 , validation accuracy : 0.1892109500805153\n",
      "Epoch n°16 ( 6.0 sec) : loss = 2.2452263832092285 ,validation loss =  2.2491836547851562 , accuracy : 0.20870265914585012 , validation accuracy : 0.18115942028985507\n",
      "Epoch n°17 ( 6.0 sec) : loss = 2.2324345111846924 ,validation loss =  2.249629497528076 , accuracy : 0.20145044319097502 , validation accuracy : 0.18679549114331723\n",
      "Epoch n°18 ( 6.0 sec) : loss = 2.1695027351379395 ,validation loss =  2.2431533336639404 , accuracy : 0.19688423314531292 , validation accuracy : 0.1996779388083736\n",
      "Epoch n°19 ( 6.0 sec) : loss = 2.1934070587158203 ,validation loss =  2.2429630756378174 , accuracy : 0.19500402900886382 , validation accuracy : 0.18276972624798712\n"
     ]
    },
    {
     "name": "stderr",
     "output_type": "stream",
     "text": [
      "Traceback (most recent call last):\n",
      "  File \"/usr/lib/python3.5/multiprocessing/queues.py\", line 247, in _feed\n",
      "    send_bytes(obj)\n",
      "  File \"/usr/lib/python3.5/multiprocessing/connection.py\", line 200, in send_bytes\n",
      "    self._send_bytes(m[offset:offset + size])\n",
      "  File \"/usr/lib/python3.5/multiprocessing/connection.py\", line 404, in _send_bytes\n",
      "    self._send(header + buf)\n",
      "  File \"/usr/lib/python3.5/multiprocessing/connection.py\", line 368, in _send\n",
      "    n = write(self._handle, buf)\n",
      "OSError: [Errno 9] Bad file descriptor\n",
      "Traceback (most recent call last):\n",
      "Exception ignored in: <bound method _DataLoaderIter.__del__ of <torch.utils.data.dataloader._DataLoaderIter object at 0x7f5dac0124e0>>\n",
      "Traceback (most recent call last):\n",
      "  File \"/usr/local/lib/python3.5/dist-packages/torch/utils/data/dataloader.py\", line 717, in __del__\n",
      "  File \"/usr/lib/python3.5/multiprocessing/queues.py\", line 247, in _feed\n",
      "    send_bytes(obj)\n",
      "  File \"/usr/lib/python3.5/multiprocessing/connection.py\", line 200, in send_bytes\n",
      "    self._send_bytes(m[offset:offset + size])\n",
      "  File \"/usr/lib/python3.5/multiprocessing/connection.py\", line 404, in _send_bytes\n",
      "    self._send(header + buf)\n",
      "  File \"/usr/lib/python3.5/multiprocessing/connection.py\", line 368, in _send\n",
      "    n = write(self._handle, buf)\n",
      "OSError: [Errno 9] Bad file descriptor\n",
      "    self._shutdown_workers()\n",
      "  File \"/usr/local/lib/python3.5/dist-packages/torch/utils/data/dataloader.py\", line 711, in _shutdown_workers\n",
      "    q.close()\n",
      "  File \"/usr/lib/python3.5/multiprocessing/queues.py\", line 134, in close\n",
      "    self._reader.close()\n",
      "  File \"/usr/lib/python3.5/multiprocessing/connection.py\", line 177, in close\n",
      "    self._close()\n",
      "  File \"/usr/lib/python3.5/multiprocessing/connection.py\", line 361, in _close\n",
      "    _close(self._handle)\n",
      "OSError: [Errno 9] Bad file descriptor\n"
     ]
    },
    {
     "name": "stdout",
     "output_type": "stream",
     "text": [
      "Epoch n°20 ( 6.0 sec) : loss = 2.241888999938965 ,validation loss =  2.2502942085266113 , accuracy : 0.2054794520547945 , validation accuracy : 0.18438003220611915\n",
      "Epoch n°21 ( 6.0 sec) : loss = 2.2054831981658936 ,validation loss =  2.239905595779419 , accuracy : 0.19312382487241472 , validation accuracy : 0.19484702093397746\n",
      "Epoch n°22 ( 6.0 sec) : loss = 2.2634549140930176 ,validation loss =  2.243356227874756 , accuracy : 0.2054794520547945 , validation accuracy : 0.20128824476650564\n",
      "Epoch n°23 ( 6.0 sec) : loss = 2.2140915393829346 ,validation loss =  2.2369210720062256 , accuracy : 0.1998388396454472 , validation accuracy : 0.1972624798711755\n",
      "Epoch n°24 ( 6.0 sec) : loss = 2.1434109210968018 ,validation loss =  2.236273765563965 , accuracy : 0.2081654579640075 , validation accuracy : 0.21336553945249598\n",
      "Epoch n°25 ( 6.0 sec) : loss = 2.1722636222839355 ,validation loss =  2.24125075340271 , accuracy : 0.2108514638732205 , validation accuracy : 0.2028985507246377\n",
      "Epoch n°26 ( 6.0 sec) : loss = 2.2134525775909424 ,validation loss =  2.2349045276641846 , accuracy : 0.20870265914585012 , validation accuracy : 0.18760064412238325\n",
      "Epoch n°27 ( 6.0 sec) : loss = 2.23891019821167 ,validation loss =  2.238499879837036 , accuracy : 0.2062852538275584 , validation accuracy : 0.20853462157809985\n",
      "Epoch n°28 ( 6.0 sec) : loss = 2.2248806953430176 ,validation loss =  2.23150897026062 , accuracy : 0.21837228041901693 , validation accuracy : 0.21336553945249598\n",
      "Epoch n°29 ( 6.0 sec) : loss = 2.2167108058929443 ,validation loss =  2.233851909637451 , accuracy : 0.21944668278270213 , validation accuracy : 0.19404186795491143\n",
      "Epoch n°30 ( 6.0 sec) : loss = 2.301905393600464 ,validation loss =  2.2238035202026367 , accuracy : 0.22052108514638732 , validation accuracy : 0.20611916264090177\n",
      "Epoch n°31 ( 6.0 sec) : loss = 2.147052049636841 ,validation loss =  2.2302565574645996 , accuracy : 0.23207091055600323 , validation accuracy : 0.20128824476650564\n",
      "Epoch n°32 ( 6.0 sec) : loss = 2.1889150142669678 ,validation loss =  2.2251462936401367 , accuracy : 0.22401289282836423 , validation accuracy : 0.21175523349436393\n",
      "Epoch n°33 ( 6.0 sec) : loss = 2.150113582611084 ,validation loss =  2.2204530239105225 , accuracy : 0.2264302981466559 , validation accuracy : 0.21578099838969403\n",
      "Epoch n°34 ( 6.0 sec) : loss = 2.2517495155334473 ,validation loss =  2.222391366958618 , accuracy : 0.23314531291968843 , validation accuracy : 0.2246376811594203\n",
      "Epoch n°35 ( 6.0 sec) : loss = 2.2944579124450684 ,validation loss =  2.2226481437683105 , accuracy : 0.23180230996508192 , validation accuracy : 0.21497584541062803\n",
      "Epoch n°36 ( 6.0 sec) : loss = 2.152381658554077 ,validation loss =  2.216865062713623 , accuracy : 0.24952994896588773 , validation accuracy : 0.21175523349436393\n",
      "Epoch n°37 ( 6.0 sec) : loss = 2.259225845336914 ,validation loss =  2.2174055576324463 , accuracy : 0.26054257319366103 , validation accuracy : 0.22544283413848631\n",
      "Epoch n°38 ( 6.0 sec) : loss = 2.2118051052093506 ,validation loss =  2.209926128387451 , accuracy : 0.2535589578297072 , validation accuracy : 0.22624798711755234\n",
      "Epoch n°57 ( 6.0 sec) : loss = 2.0648417472839355 ,validation loss =  2.203324556350708 , accuracy : 0.2640343808756379 , validation accuracy : 0.26570048309178745\n",
      "Epoch n°58 ( 6.0 sec) : loss = 2.1239771842956543 ,validation loss =  2.2083935737609863 , accuracy : 0.2677947891485361 , validation accuracy : 0.23832528180354268\n",
      "Epoch n°59 ( 6.0 sec) : loss = 2.115830183029175 ,validation loss =  2.2059621810913086 , accuracy : 0.2672575879666935 , validation accuracy : 0.25120772946859904\n",
      "Epoch n°60 ( 6.0 sec) : loss = 2.184828758239746 ,validation loss =  2.204697608947754 , accuracy : 0.26618318560300835 , validation accuracy : 0.24235104669887278\n",
      "Epoch n°61 ( 6.0 sec) : loss = 2.174677848815918 ,validation loss =  2.2005198001861572 , accuracy : 0.2610797743755036 , validation accuracy : 0.24074074074074073\n",
      "Epoch n°62 ( 6.0 sec) : loss = 2.2730891704559326 ,validation loss =  2.1998183727264404 , accuracy : 0.27289820037604084 , validation accuracy : 0.24396135265700483\n",
      "Epoch n°63 ( 6.0 sec) : loss = 2.2632415294647217 ,validation loss =  2.200762987136841 , accuracy : 0.2822992210582863 , validation accuracy : 0.23510466988727857\n",
      "Epoch n°64 ( 6.0 sec) : loss = 2.1914491653442383 ,validation loss =  2.207674026489258 , accuracy : 0.26886919151222133 , validation accuracy : 0.24476650563607086\n",
      "Epoch n°65 ( 6.0 sec) : loss = 2.2142159938812256 ,validation loss =  2.204169750213623 , accuracy : 0.26134837496642493 , validation accuracy : 0.25523349436392917\n",
      "Epoch n°66 ( 6.0 sec) : loss = 2.15395450592041 ,validation loss =  2.2037694454193115 , accuracy : 0.26000537201181845 , validation accuracy : 0.24154589371980675\n",
      "Epoch n°67 ( 6.0 sec) : loss = 2.2347607612609863 ,validation loss =  2.198608160018921 , accuracy : 0.26537738383024445 , validation accuracy : 0.2222222222222222\n",
      "Epoch n°68 ( 6.0 sec) : loss = 2.266977071762085 ,validation loss =  2.1961965560913086 , accuracy : 0.26994359387590655 , validation accuracy : 0.22624798711755234\n",
      "Epoch n°69 ( 6.0 sec) : loss = 2.171069383621216 ,validation loss =  2.206547975540161 , accuracy : 0.26054257319366103 , validation accuracy : 0.25925925925925924\n",
      "Epoch n°70 ( 6.0 sec) : loss = 2.1853396892547607 ,validation loss =  2.193439245223999 , accuracy : 0.26295997851195274 , validation accuracy : 0.2286634460547504\n",
      "Epoch n°71 ( 6.0 sec) : loss = 2.2715113162994385 ,validation loss =  2.202582836151123 , accuracy : 0.2755842062852538 , validation accuracy : 0.26247987117552335\n",
      "Epoch n°72 ( 6.0 sec) : loss = 2.1602466106414795 ,validation loss =  2.1989221572875977 , accuracy : 0.2594681708299758 , validation accuracy : 0.26570048309178745\n",
      "Epoch n°73 ( 6.0 sec) : loss = 2.215550422668457 ,validation loss =  2.192211627960205 , accuracy : 0.27048079505774913 , validation accuracy : 0.24557165861513688\n",
      "Epoch n°74 ( 6.0 sec) : loss = 2.2765884399414062 ,validation loss =  2.1904590129852295 , accuracy : 0.27128659683051304 , validation accuracy : 0.25684380032206117\n",
      "Epoch n°75 ( 6.0 sec) : loss = 2.1141984462738037 ,validation loss =  2.202169179916382 , accuracy : 0.2680633897394574 , validation accuracy : 0.23832528180354268\n",
      "Epoch n°76 ( 6.0 sec) : loss = 2.2180192470550537 ,validation loss =  2.195202112197876 , accuracy : 0.26752618855761484 , validation accuracy : 0.23349436392914655\n",
      "Epoch n°77 ( 6.0 sec) : loss = 2.2276453971862793 ,validation loss =  2.205630302429199 , accuracy : 0.27585280687617514 , validation accuracy : 0.249597423510467\n",
      "Epoch n°78 ( 6.0 sec) : loss = 2.107560396194458 ,validation loss =  2.208759307861328 , accuracy : 0.2672575879666935 , validation accuracy : 0.24476650563607086\n",
      "Epoch n°79 ( 6.0 sec) : loss = 2.2317733764648438 ,validation loss =  2.19979190826416 , accuracy : 0.2723609991941982 , validation accuracy : 0.2648953301127214\n",
      "Epoch n°80 ( 7.0 sec) : loss = 2.1171717643737793 ,validation loss =  2.2033629417419434 , accuracy : 0.2710179962395917 , validation accuracy : 0.24798711755233493\n",
      "Epoch n°81 ( 6.0 sec) : loss = 2.1696412563323975 ,validation loss =  2.1964523792266846 , accuracy : 0.2747784045124899 , validation accuracy : 0.2463768115942029\n",
      "Epoch n°82 ( 7.0 sec) : loss = 2.1860599517822266 ,validation loss =  2.197683572769165 , accuracy : 0.2723609991941982 , validation accuracy : 0.2359098228663446\n",
      "Epoch n°83 ( 6.0 sec) : loss = 2.2556824684143066 ,validation loss =  2.2047336101531982 , accuracy : 0.2686005909213 , validation accuracy : 0.24154589371980675\n",
      "Epoch n°84 ( 6.0 sec) : loss = 2.186450958251953 ,validation loss =  2.206481695175171 , accuracy : 0.2723609991941982 , validation accuracy : 0.2536231884057971\n",
      "Epoch n°85 ( 7.0 sec) : loss = 2.124342441558838 ,validation loss =  2.1949827671051025 , accuracy : 0.2769272092398603 , validation accuracy : 0.23027375201288244\n",
      "Epoch n°86 ( 6.0 sec) : loss = 2.2723491191864014 ,validation loss =  2.1949174404144287 , accuracy : 0.27504700510341124 , validation accuracy : 0.2471819645732689\n",
      "Epoch n°87 ( 6.0 sec) : loss = 2.1760740280151367 ,validation loss =  2.2079765796661377 , accuracy : 0.2809562181036798 , validation accuracy : 0.24074074074074073\n",
      "Epoch n°88 ( 6.0 sec) : loss = 2.1706905364990234 ,validation loss =  2.1936659812927246 , accuracy : 0.26913779210314265 , validation accuracy : 0.25925925925925924\n",
      "Epoch n°89 ( 6.0 sec) : loss = 2.2007110118865967 ,validation loss =  2.198563814163208 , accuracy : 0.27665860864893904 , validation accuracy : 0.24235104669887278\n",
      "Epoch n°90 ( 6.0 sec) : loss = 2.1563072204589844 ,validation loss =  2.21303391456604 , accuracy : 0.27343540155788343 , validation accuracy : 0.2463768115942029\n",
      "Epoch n°91 ( 7.0 sec) : loss = 2.216454029083252 ,validation loss =  2.1993117332458496 , accuracy : 0.2640343808756379 , validation accuracy : 0.24798711755233493\n",
      "Epoch n°92 ( 6.0 sec) : loss = 2.1539573669433594 ,validation loss =  2.181265354156494 , accuracy : 0.2648401826484018 , validation accuracy : 0.2463768115942029\n",
      "Epoch n°93 ( 6.0 sec) : loss = 2.217231035232544 ,validation loss =  2.1981923580169678 , accuracy : 0.2640343808756379 , validation accuracy : 0.2359098228663446\n",
      "Epoch n°94 ( 6.0 sec) : loss = 2.142915725708008 ,validation loss =  2.2109994888305664 , accuracy : 0.26913779210314265 , validation accuracy : 0.23510466988727857\n",
      "Epoch n°95 ( 6.0 sec) : loss = 2.2877421379089355 ,validation loss =  2.212796449661255 , accuracy : 0.26054257319366103 , validation accuracy : 0.24879227053140096\n",
      "Epoch n°96 ( 6.0 sec) : loss = 2.165724992752075 ,validation loss =  2.2107956409454346 , accuracy : 0.27343540155788343 , validation accuracy : 0.25201288244766507\n",
      "Epoch n°97 ( 6.0 sec) : loss = 2.250432252883911 ,validation loss =  2.2012577056884766 , accuracy : 0.26215417673918884 , validation accuracy : 0.26972624798711753\n",
      "Epoch n°98 ( 6.0 sec) : loss = 2.180507183074951 ,validation loss =  2.1993680000305176 , accuracy : 0.26886919151222133 , validation accuracy : 0.2608695652173913\n",
      "Epoch n°99 ( 6.0 sec) : loss = 2.1713054180145264 ,validation loss =  2.2039592266082764 , accuracy : 0.26913779210314265 , validation accuracy : 0.2721417069243156\n",
      "Epoch n°100 ( 6.0 sec) : loss = 2.1689560413360596 ,validation loss =  2.1863088607788086 , accuracy : 0.28444802578565676 , validation accuracy : 0.25120772946859904\n",
      "Epoch n°101 ( 6.0 sec) : loss = 2.2298340797424316 ,validation loss =  2.190063953399658 , accuracy : 0.2806876175127585 , validation accuracy : 0.2785829307568438\n",
      "Epoch n°102 ( 6.0 sec) : loss = 2.184993267059326 ,validation loss =  2.190657138824463 , accuracy : 0.29411764705882354 , validation accuracy : 0.25925925925925924\n",
      "Epoch n°103 ( 6.0 sec) : loss = 2.1007580757141113 ,validation loss =  2.1803183555603027 , accuracy : 0.29626645178619393 , validation accuracy : 0.26811594202898553\n",
      "Epoch n°104 ( 6.0 sec) : loss = 2.105015277862549 ,validation loss =  2.1650261878967285 , accuracy : 0.28256782164920763 , validation accuracy : 0.25925925925925924\n",
      "Epoch n°105 ( 6.0 sec) : loss = 2.211141586303711 ,validation loss =  2.180370807647705 , accuracy : 0.28579102874026324 , validation accuracy : 0.2463768115942029\n",
      "Epoch n°106 ( 6.0 sec) : loss = 2.070870876312256 ,validation loss =  2.200138807296753 , accuracy : 0.2806876175127585 , validation accuracy : 0.2745571658615137\n",
      "Epoch n°107 ( 6.0 sec) : loss = 2.2885818481445312 ,validation loss =  2.1897404193878174 , accuracy : 0.28659683051302715 , validation accuracy : 0.24798711755233493\n",
      "Epoch n°108 ( 7.0 sec) : loss = 2.2790231704711914 ,validation loss =  2.2059550285339355 , accuracy : 0.279344614558152 , validation accuracy : 0.249597423510467\n",
      "Epoch n°109 ( 6.0 sec) : loss = 2.117295742034912 ,validation loss =  2.1921839714050293 , accuracy : 0.28364222401289285 , validation accuracy : 0.2689210950080515\n",
      "Epoch n°110 ( 6.0 sec) : loss = 2.1586389541625977 ,validation loss =  2.1957128047943115 , accuracy : 0.2817620198764437 , validation accuracy : 0.24235104669887278\n",
      "Epoch n°111 ( 6.0 sec) : loss = 2.1725070476531982 ,validation loss =  2.198138952255249 , accuracy : 0.27988181573999465 , validation accuracy : 0.23671497584541062\n",
      "Epoch n°112 ( 6.0 sec) : loss = 2.1372783184051514 ,validation loss =  2.199003219604492 , accuracy : 0.27746441042170294 , validation accuracy : 0.250402576489533\n",
      "Epoch n°113 ( 6.0 sec) : loss = 2.100895881652832 ,validation loss =  2.1733527183532715 , accuracy : 0.2839108246038141 , validation accuracy : 0.2560386473429952\n",
      "Epoch n°114 ( 7.0 sec) : loss = 2.1777822971343994 ,validation loss =  2.1889655590057373 , accuracy : 0.2906258393768466 , validation accuracy : 0.25442834138486314\n",
      "Epoch n°115 ( 6.0 sec) : loss = 2.2733216285705566 ,validation loss =  2.1738297939300537 , accuracy : 0.28337362342197153 , validation accuracy : 0.27053140096618356\n",
      "Epoch n°116 ( 6.0 sec) : loss = 2.2296745777130127 ,validation loss =  2.173084259033203 , accuracy : 0.2898200376040827 , validation accuracy : 0.2560386473429952\n",
      "Epoch n°117 ( 6.0 sec) : loss = 2.2563834190368652 ,validation loss =  2.182354688644409 , accuracy : 0.28874563524039754 , validation accuracy : 0.2665056360708535\n",
      "Epoch n°118 ( 6.0 sec) : loss = 2.1945667266845703 ,validation loss =  2.185755729675293 , accuracy : 0.31023368251410155 , validation accuracy : 0.25684380032206117\n",
      "Epoch n°119 ( 6.0 sec) : loss = 2.0413310527801514 ,validation loss =  2.1909379959106445 , accuracy : 0.3051302712865968 , validation accuracy : 0.25684380032206117\n",
      "Epoch n°120 ( 6.0 sec) : loss = 2.158174514770508 ,validation loss =  2.1970343589782715 , accuracy : 0.30701047542304594 , validation accuracy : 0.26247987117552335\n",
      "Epoch n°121 ( 6.0 sec) : loss = 2.2108914852142334 ,validation loss =  2.1905922889709473 , accuracy : 0.3013698630136986 , validation accuracy : 0.2665056360708535\n",
      "Epoch n°122 ( 6.0 sec) : loss = 2.2370784282684326 ,validation loss =  2.1887366771698 , accuracy : 0.2906258393768466 , validation accuracy : 0.24396135265700483\n",
      "Epoch n°123 ( 6.0 sec) : loss = 2.1396758556365967 ,validation loss =  2.193230628967285 , accuracy : 0.2951920494225087 , validation accuracy : 0.25442834138486314\n",
      "Epoch n°124 ( 6.0 sec) : loss = 2.2099428176879883 ,validation loss =  2.215578556060791 , accuracy : 0.28820843405855495 , validation accuracy : 0.24476650563607086\n",
      "Epoch n°125 ( 6.0 sec) : loss = 2.258019208908081 ,validation loss =  2.2013020515441895 , accuracy : 0.27370400214880475 , validation accuracy : 0.24235104669887278\n",
      "Epoch n°126 ( 6.0 sec) : loss = 2.212348699569702 ,validation loss =  2.19860577583313 , accuracy : 0.27800161160354553 , validation accuracy : 0.24396135265700483\n",
      "Epoch n°127 ( 6.0 sec) : loss = 2.154353141784668 ,validation loss =  2.195831775665283 , accuracy : 0.2672575879666935 , validation accuracy : 0.2528180354267311\n",
      "Epoch n°128 ( 6.0 sec) : loss = 2.2440054416656494 ,validation loss =  2.197499990463257 , accuracy : 0.28417942519473544 , validation accuracy : 0.25120772946859904\n",
      "Epoch n°129 ( 6.0 sec) : loss = 2.173050880432129 ,validation loss =  2.194301128387451 , accuracy : 0.2785388127853881 , validation accuracy : 0.24557165861513688\n",
      "Epoch n°130 ( 6.0 sec) : loss = 2.1370155811309814 ,validation loss =  2.2027955055236816 , accuracy : 0.26913779210314265 , validation accuracy : 0.25201288244766507\n",
      "Epoch n°131 ( 6.0 sec) : loss = 2.1968512535095215 ,validation loss =  2.1989026069641113 , accuracy : 0.2726295997851195 , validation accuracy : 0.27053140096618356\n",
      "Epoch n°132 ( 6.0 sec) : loss = 2.135169506072998 ,validation loss =  2.1958208084106445 , accuracy : 0.27907601396723075 , validation accuracy : 0.2616747181964573\n",
      "Epoch n°133 ( 6.0 sec) : loss = 2.117018222808838 ,validation loss =  2.2016096115112305 , accuracy : 0.2922374429223744 , validation accuracy : 0.249597423510467\n",
      "Epoch n°134 ( 6.0 sec) : loss = 2.233961820602417 ,validation loss =  2.1945948600769043 , accuracy : 0.28498522696749934 , validation accuracy : 0.2673107890499195\n",
      "Epoch n°135 ( 6.0 sec) : loss = 2.206679344177246 ,validation loss =  2.182340145111084 , accuracy : 0.29626645178619393 , validation accuracy : 0.2359098228663446\n",
      "Epoch n°136 ( 6.0 sec) : loss = 2.078625202178955 ,validation loss =  2.188748359680176 , accuracy : 0.2860596293311845 , validation accuracy : 0.26570048309178745\n",
      "Epoch n°137 ( 6.0 sec) : loss = 2.186185121536255 ,validation loss =  2.1780762672424316 , accuracy : 0.2884770346494762 , validation accuracy : 0.2616747181964573\n",
      "Epoch n°138 ( 6.0 sec) : loss = 2.127650499343872 ,validation loss =  2.177565574645996 , accuracy : 0.2968036529680365 , validation accuracy : 0.2584541062801932\n",
      "Epoch n°139 ( 6.0 sec) : loss = 2.245830535888672 ,validation loss =  2.18037486076355 , accuracy : 0.28740263228579105 , validation accuracy : 0.26811594202898553\n",
      "Epoch n°140 ( 6.0 sec) : loss = 2.132577657699585 ,validation loss =  2.188878059387207 , accuracy : 0.3021756647864625 , validation accuracy : 0.28743961352657005\n",
      "Epoch n°141 ( 6.0 sec) : loss = 2.195885181427002 ,validation loss =  2.187779426574707 , accuracy : 0.29277464410421705 , validation accuracy : 0.26972624798711753\n",
      "Epoch n°142 ( 6.0 sec) : loss = 2.1332638263702393 ,validation loss =  2.19075608253479 , accuracy : 0.29787805533172174 , validation accuracy : 0.26972624798711753\n",
      "Epoch n°143 ( 6.0 sec) : loss = 2.150850534439087 ,validation loss =  2.172905206680298 , accuracy : 0.29035723878592534 , validation accuracy : 0.2721417069243156\n",
      "Epoch n°144 ( 6.0 sec) : loss = 2.1266391277313232 ,validation loss =  2.192706823348999 , accuracy : 0.2914316411496105 , validation accuracy : 0.25442834138486314\n",
      "Epoch n°145 ( 6.0 sec) : loss = 2.1545116901397705 ,validation loss =  2.187760591506958 , accuracy : 0.3045930701047542 , validation accuracy : 0.25925925925925924\n",
      "Epoch n°146 ( 6.0 sec) : loss = 2.0807743072509766 ,validation loss =  2.1608879566192627 , accuracy : 0.3051302712865968 , validation accuracy : 0.26006441223832527\n",
      "Epoch n°147 ( 6.0 sec) : loss = 2.164266586303711 ,validation loss =  2.1833243370056152 , accuracy : 0.2898200376040827 , validation accuracy : 0.28019323671497587\n",
      "Epoch n°148 ( 6.0 sec) : loss = 2.069802761077881 ,validation loss =  2.180971384048462 , accuracy : 0.303518667741069 , validation accuracy : 0.2962962962962963\n",
      "Epoch n°149 ( 6.0 sec) : loss = 2.266519546508789 ,validation loss =  2.182912826538086 , accuracy : 0.308890679559495 , validation accuracy : 0.2576489533011272\n",
      "Epoch n°150 ( 6.0 sec) : loss = 2.034010171890259 ,validation loss =  2.176323175430298 , accuracy : 0.3045930701047542 , validation accuracy : 0.2777777777777778\n",
      "Epoch n°151 ( 6.0 sec) : loss = 2.1957995891571045 ,validation loss =  2.195124626159668 , accuracy : 0.29546065001343 , validation accuracy : 0.2777777777777778\n",
      "Epoch n°152 ( 6.0 sec) : loss = 2.172508478164673 ,validation loss =  2.1789345741271973 , accuracy : 0.28203062046736505 , validation accuracy : 0.2745571658615137\n",
      "Epoch n°153 ( 6.0 sec) : loss = 2.2279891967773438 ,validation loss =  2.1878747940063477 , accuracy : 0.2884770346494762 , validation accuracy : 0.2721417069243156\n",
      "Epoch n°154 ( 6.0 sec) : loss = 2.1551008224487305 ,validation loss =  2.1830697059631348 , accuracy : 0.29411764705882354 , validation accuracy : 0.2673107890499195\n",
      "Epoch n°155 ( 6.0 sec) : loss = 2.174921989440918 ,validation loss =  2.179626703262329 , accuracy : 0.2989524576954069 , validation accuracy : 0.26570048309178745\n",
      "Epoch n°156 ( 6.0 sec) : loss = 2.2323124408721924 ,validation loss =  2.1806869506835938 , accuracy : 0.2984152565135643 , validation accuracy : 0.29066022544283415\n",
      "Epoch n°157 ( 6.0 sec) : loss = 2.2036595344543457 ,validation loss =  2.186109781265259 , accuracy : 0.2938490464679022 , validation accuracy : 0.27616747181964574\n",
      "Epoch n°158 ( 6.0 sec) : loss = 2.044515609741211 ,validation loss =  2.176509380340576 , accuracy : 0.3043244695138329 , validation accuracy : 0.2632850241545894\n",
      "Epoch n°159 ( 6.0 sec) : loss = 2.1990437507629395 ,validation loss =  2.1725809574127197 , accuracy : 0.30271286596830516 , validation accuracy : 0.2777777777777778\n",
      "Epoch n°160 ( 6.0 sec) : loss = 2.176025867462158 ,validation loss =  2.178518295288086 , accuracy : 0.3013698630136986 , validation accuracy : 0.26972624798711753\n",
      "Epoch n°161 ( 6.0 sec) : loss = 2.0451738834381104 ,validation loss =  2.17293643951416 , accuracy : 0.3083534783776524 , validation accuracy : 0.28019323671497587\n",
      "Epoch n°162 ( 6.0 sec) : loss = 2.1489620208740234 ,validation loss =  2.178250312805176 , accuracy : 0.2989524576954069 , validation accuracy : 0.26006441223832527\n",
      "Epoch n°163 ( 6.0 sec) : loss = 2.0953798294067383 ,validation loss =  2.1803956031799316 , accuracy : 0.2898200376040827 , validation accuracy : 0.26570048309178745\n",
      "Epoch n°164 ( 6.0 sec) : loss = 2.130632162094116 ,validation loss =  2.1797590255737305 , accuracy : 0.2876712328767123 , validation accuracy : 0.25201288244766507\n",
      "Epoch n°165 ( 6.0 sec) : loss = 2.137836217880249 ,validation loss =  2.1988558769226074 , accuracy : 0.2785388127853881 , validation accuracy : 0.2616747181964573\n",
      "Epoch n°166 ( 6.0 sec) : loss = 2.1367805004119873 ,validation loss =  2.2032058238983154 , accuracy : 0.28713403169486973 , validation accuracy : 0.26811594202898553\n",
      "Epoch n°167 ( 6.0 sec) : loss = 2.2731308937072754 ,validation loss =  2.177739143371582 , accuracy : 0.2868654311039484 , validation accuracy : 0.26247987117552335\n",
      "Epoch n°168 ( 6.0 sec) : loss = 2.2063143253326416 ,validation loss =  2.1936094760894775 , accuracy : 0.2946548482406661 , validation accuracy : 0.2640901771336554\n",
      "Epoch n°169 ( 6.0 sec) : loss = 2.158221483230591 ,validation loss =  2.188059091567993 , accuracy : 0.2785388127853881 , validation accuracy : 0.2785829307568438\n",
      "Epoch n°170 ( 6.0 sec) : loss = 2.185633420944214 ,validation loss =  2.191387176513672 , accuracy : 0.27531560569433255 , validation accuracy : 0.26972624798711753\n",
      "Epoch n°171 ( 5.0 sec) : loss = 2.2083191871643066 ,validation loss =  2.185459852218628 , accuracy : 0.2855224281493419 , validation accuracy : 0.25684380032206117\n",
      "Epoch n°172 ( 6.0 sec) : loss = 2.2463574409484863 ,validation loss =  2.1848654747009277 , accuracy : 0.28659683051302715 , validation accuracy : 0.2721417069243156\n",
      "Epoch n°173 ( 6.0 sec) : loss = 2.114304780960083 ,validation loss =  2.18287992477417 , accuracy : 0.2906258393768466 , validation accuracy : 0.2584541062801932\n",
      "Epoch n°174 ( 6.0 sec) : loss = 2.160262107849121 ,validation loss =  2.182262420654297 , accuracy : 0.2906258393768466 , validation accuracy : 0.2576489533011272\n",
      "Epoch n°175 ( 6.0 sec) : loss = 2.025874614715576 ,validation loss =  2.179349899291992 , accuracy : 0.2863282299221058 , validation accuracy : 0.2673107890499195\n",
      "Epoch n°176 ( 6.0 sec) : loss = 2.2392029762268066 ,validation loss =  2.1822004318237305 , accuracy : 0.29546065001343 , validation accuracy : 0.2648953301127214\n",
      "Epoch n°177 ( 6.0 sec) : loss = 2.271672248840332 ,validation loss =  2.1664209365844727 , accuracy : 0.28713403169486973 , validation accuracy : 0.27616747181964574\n",
      "Epoch n°178 ( 6.0 sec) : loss = 2.1640372276306152 ,validation loss =  2.1854779720306396 , accuracy : 0.2976094547408004 , validation accuracy : 0.27053140096618356\n",
      "Epoch n°179 ( 6.0 sec) : loss = 2.1550848484039307 ,validation loss =  2.181046485900879 , accuracy : 0.29196884233145315 , validation accuracy : 0.26006441223832527\n",
      "Epoch n°180 ( 6.0 sec) : loss = 2.202155828475952 ,validation loss =  2.1743874549865723 , accuracy : 0.29170024174053183 , validation accuracy : 0.2713365539452496\n",
      "Epoch n°181 ( 6.0 sec) : loss = 2.207953929901123 ,validation loss =  2.1786937713623047 , accuracy : 0.2852538275584206 , validation accuracy : 0.25925925925925924\n",
      "Epoch n°182 ( 6.0 sec) : loss = 2.0795302391052246 ,validation loss =  2.168853998184204 , accuracy : 0.2951920494225087 , validation accuracy : 0.27294685990338163\n",
      "Epoch n°183 ( 6.0 sec) : loss = 2.157512664794922 ,validation loss =  2.1847736835479736 , accuracy : 0.29653505237711525 , validation accuracy : 0.2640901771336554\n",
      "Epoch n°184 ( 6.0 sec) : loss = 2.0855913162231445 ,validation loss =  2.182314872741699 , accuracy : 0.3000268600590921 , validation accuracy : 0.2753623188405797\n",
      "Epoch n°185 ( 6.0 sec) : loss = 2.1156036853790283 ,validation loss =  2.19534969329834 , accuracy : 0.28498522696749934 , validation accuracy : 0.2713365539452496\n",
      "Epoch n°186 ( 6.0 sec) : loss = 2.1795828342437744 ,validation loss =  2.1874237060546875 , accuracy : 0.2930432446951383 , validation accuracy : 0.2882447665056361\n",
      "Epoch n°187 ( 6.0 sec) : loss = 2.221020221710205 ,validation loss =  2.1710240840911865 , accuracy : 0.30271286596830516 , validation accuracy : 0.2914653784219002\n",
      "Epoch n°188 ( 6.0 sec) : loss = 2.1785926818847656 ,validation loss =  2.179091691970825 , accuracy : 0.2968036529680365 , validation accuracy : 0.2898550724637681\n",
      "Epoch n°189 ( 6.0 sec) : loss = 2.2204926013946533 ,validation loss =  2.184988021850586 , accuracy : 0.30244426537738384 , validation accuracy : 0.2971014492753623\n",
      "Epoch n°190 ( 6.0 sec) : loss = 2.0220367908477783 ,validation loss =  2.1711864471435547 , accuracy : 0.30727907601396726 , validation accuracy : 0.28743961352657005\n",
      "Epoch n°191 ( 6.0 sec) : loss = 2.224290609359741 ,validation loss =  2.180088520050049 , accuracy : 0.31103948428686545 , validation accuracy : 0.2809983896940419\n",
      "Epoch n°192 ( 6.0 sec) : loss = 2.1155622005462646 ,validation loss =  2.183098793029785 , accuracy : 0.31399409078699975 , validation accuracy : 0.27616747181964574\n",
      "Epoch n°193 ( 6.0 sec) : loss = 2.1133971214294434 ,validation loss =  2.1683053970336914 , accuracy : 0.30190706419554125 , validation accuracy : 0.2809983896940419\n",
      "Epoch n°194 ( 6.0 sec) : loss = 2.205972194671631 ,validation loss =  2.173393964767456 , accuracy : 0.31103948428686545 , validation accuracy : 0.3075684380032206\n",
      "Epoch n°195 ( 6.0 sec) : loss = 2.0306899547576904 ,validation loss =  2.1857540607452393 , accuracy : 0.3121138866505506 , validation accuracy : 0.28180354267310787\n",
      "Epoch n°196 ( 6.0 sec) : loss = 2.1838841438293457 ,validation loss =  2.1797800064086914 , accuracy : 0.3029814665592264 , validation accuracy : 0.2882447665056361\n",
      "Epoch n°197 ( 6.0 sec) : loss = 2.1909584999084473 ,validation loss =  2.1775574684143066 , accuracy : 0.3134568896051571 , validation accuracy : 0.2689210950080515\n",
      "Epoch n°198 ( 6.0 sec) : loss = 2.1992032527923584 ,validation loss =  2.171001672744751 , accuracy : 0.3075476766048885 , validation accuracy : 0.2882447665056361\n",
      "Epoch n°199 ( 6.0 sec) : loss = 2.150763511657715 ,validation loss =  2.1720852851867676 , accuracy : 0.314262691377921 , validation accuracy : 0.2971014492753623\n",
      "Epoch n°200 ( 6.0 sec) : loss = 2.2060091495513916 ,validation loss =  2.178349256515503 , accuracy : 0.30190706419554125 , validation accuracy : 0.27697262479871176\n",
      "Epoch n°201 ( 6.0 sec) : loss = 2.1195287704467773 ,validation loss =  2.161653518676758 , accuracy : 0.3180230996508192 , validation accuracy : 0.27616747181964574\n",
      "Epoch n°202 ( 6.0 sec) : loss = 2.203195095062256 ,validation loss =  2.1676669120788574 , accuracy : 0.31023368251410155 , validation accuracy : 0.286634460547504\n",
      "Epoch n°203 ( 6.0 sec) : loss = 1.9518738985061646 ,validation loss =  2.1659739017486572 , accuracy : 0.3113080848777867 , validation accuracy : 0.27938808373590984\n",
      "Epoch n°204 ( 6.0 sec) : loss = 2.2175912857055664 ,validation loss =  2.1691179275512695 , accuracy : 0.31077088369594413 , validation accuracy : 0.28019323671497587\n",
      "Epoch n°205 ( 6.0 sec) : loss = 2.230670690536499 ,validation loss =  2.1798930168151855 , accuracy : 0.30862207896857374 , validation accuracy : 0.2785829307568438\n",
      "Epoch n°206 ( 6.0 sec) : loss = 2.122675895690918 ,validation loss =  2.1598317623138428 , accuracy : 0.30862207896857374 , validation accuracy : 0.29549114331723025\n",
      "Epoch n°207 ( 6.0 sec) : loss = 2.2148044109344482 ,validation loss =  2.1628928184509277 , accuracy : 0.31641149610529146 , validation accuracy : 0.286634460547504\n",
      "Epoch n°208 ( 6.0 sec) : loss = 2.072145700454712 ,validation loss =  2.1618964672088623 , accuracy : 0.308890679559495 , validation accuracy : 0.2938808373590982\n",
      "Epoch n°209 ( 6.0 sec) : loss = 2.0802652835845947 ,validation loss =  2.171929359436035 , accuracy : 0.32312651087832395 , validation accuracy : 0.2971014492753623\n",
      "Epoch n°210 ( 6.0 sec) : loss = 2.199479103088379 ,validation loss =  2.15035080909729 , accuracy : 0.3180230996508192 , validation accuracy : 0.2995169082125604\n",
      "Epoch n°211 ( 6.0 sec) : loss = 2.1789920330047607 ,validation loss =  2.148609161376953 , accuracy : 0.3080848777867311 , validation accuracy : 0.26972624798711753\n",
      "Epoch n°212 ( 6.0 sec) : loss = 2.0956215858459473 ,validation loss =  2.1474523544311523 , accuracy : 0.31399409078699975 , validation accuracy : 0.28421900161030594\n",
      "Epoch n°213 ( 6.0 sec) : loss = 2.1154637336730957 ,validation loss =  2.155298948287964 , accuracy : 0.3113080848777867 , validation accuracy : 0.28421900161030594\n",
      "Epoch n°214 ( 6.0 sec) : loss = 2.057386875152588 ,validation loss =  2.1464884281158447 , accuracy : 0.32151490733279614 , validation accuracy : 0.3027375201288245\n",
      "Epoch n°215 ( 6.0 sec) : loss = 2.1758830547332764 ,validation loss =  2.142197608947754 , accuracy : 0.31533709374160623 , validation accuracy : 0.2914653784219002\n",
      "Epoch n°216 ( 6.0 sec) : loss = 2.0429913997650146 ,validation loss =  2.15510892868042 , accuracy : 0.2959978511952726 , validation accuracy : 0.2922705314009662\n",
      "Epoch n°217 ( 6.0 sec) : loss = 2.163170576095581 ,validation loss =  2.158538341522217 , accuracy : 0.31453129196884233 , validation accuracy : 0.29307568438003223\n",
      "Epoch n°218 ( 6.0 sec) : loss = 2.229701280593872 ,validation loss =  2.1518473625183105 , accuracy : 0.3045930701047542 , validation accuracy : 0.29066022544283415\n",
      "Epoch n°219 ( 6.0 sec) : loss = 2.065595865249634 ,validation loss =  2.154653787612915 , accuracy : 0.330378726833199 , validation accuracy : 0.28743961352657005\n",
      "Epoch n°220 ( 6.0 sec) : loss = 2.2056660652160645 ,validation loss =  2.1530373096466064 , accuracy : 0.3174858984689766 , validation accuracy : 0.2632850241545894\n",
      "Epoch n°221 ( 6.0 sec) : loss = 2.2142746448516846 ,validation loss =  2.156345844268799 , accuracy : 0.31479989255976365 , validation accuracy : 0.3196457326892109\n",
      "Epoch n°222 ( 6.0 sec) : loss = 2.1289443969726562 ,validation loss =  2.165963649749756 , accuracy : 0.3075476766048885 , validation accuracy : 0.3027375201288245\n",
      "Epoch n°223 ( 6.0 sec) : loss = 2.092866897583008 ,validation loss =  2.142197370529175 , accuracy : 0.308890679559495 , validation accuracy : 0.29066022544283415\n",
      "Epoch n°224 ( 6.0 sec) : loss = 2.1392436027526855 ,validation loss =  2.172469139099121 , accuracy : 0.319634703196347 , validation accuracy : 0.27697262479871176\n",
      "Epoch n°225 ( 6.0 sec) : loss = 2.1203505992889404 ,validation loss =  2.159461259841919 , accuracy : 0.3274241203330647 , validation accuracy : 0.29790660225442833\n",
      "Epoch n°226 ( 6.0 sec) : loss = 2.1922826766967773 ,validation loss =  2.162757158279419 , accuracy : 0.3091592801504163 , validation accuracy : 0.3164251207729469\n",
      "Epoch n°227 ( 6.0 sec) : loss = 2.1901509761810303 ,validation loss =  2.156031608581543 , accuracy : 0.32822992210582863 , validation accuracy : 0.30515297906602257\n",
      "Epoch n°228 ( 6.0 sec) : loss = 1.9548332691192627 ,validation loss =  2.1486713886260986 , accuracy : 0.3242009132420091 , validation accuracy : 0.3107890499194847\n",
      "Epoch n°229 ( 6.0 sec) : loss = 2.204042673110962 ,validation loss =  2.1387414932250977 , accuracy : 0.3295729250604351 , validation accuracy : 0.3003220611916264\n",
      "Epoch n°230 ( 6.0 sec) : loss = 2.071080207824707 ,validation loss =  2.1677067279815674 , accuracy : 0.33145312919688424 , validation accuracy : 0.3244766505636071\n",
      "Epoch n°231 ( 6.0 sec) : loss = 2.101022720336914 ,validation loss =  2.1588428020477295 , accuracy : 0.3416599516518936 , validation accuracy : 0.3132045088566828\n",
      "Epoch n°232 ( 6.0 sec) : loss = 2.0974559783935547 ,validation loss =  2.144444227218628 , accuracy : 0.33682514101531025 , validation accuracy : 0.2826086956521739\n",
      "Epoch n°233 ( 6.0 sec) : loss = 2.0283474922180176 ,validation loss =  2.1469790935516357 , accuracy : 0.3333333333333333 , validation accuracy : 0.30917874396135264\n",
      "Epoch n°234 ( 6.0 sec) : loss = 2.170839548110962 ,validation loss =  2.1416738033294678 , accuracy : 0.3180230996508192 , validation accuracy : 0.3115942028985507\n",
      "Epoch n°235 ( 6.0 sec) : loss = 2.1772520542144775 ,validation loss =  2.1586802005767822 , accuracy : 0.3188289014235831 , validation accuracy : 0.3027375201288245\n",
      "Epoch n°236 ( 6.0 sec) : loss = 2.1052167415618896 ,validation loss =  2.1584925651550293 , accuracy : 0.330378726833199 , validation accuracy : 0.2938808373590982\n",
      "Epoch n°237 ( 6.0 sec) : loss = 2.137590169906616 ,validation loss =  2.1448636054992676 , accuracy : 0.32527531560569434 , validation accuracy : 0.32045088566827695\n",
      "Epoch n°238 ( 6.0 sec) : loss = 2.0383942127227783 ,validation loss =  2.165734052658081 , accuracy : 0.33816814396991673 , validation accuracy : 0.3035426731078905\n",
      "Epoch n°239 ( 6.0 sec) : loss = 2.045050621032715 ,validation loss =  2.1666486263275146 , accuracy : 0.330378726833199 , validation accuracy : 0.30676328502415456\n",
      "Epoch n°240 ( 6.0 sec) : loss = 2.0645484924316406 ,validation loss =  2.1536922454833984 , accuracy : 0.32366371206016653 , validation accuracy : 0.2809983896940419\n",
      "Epoch n°241 ( 6.0 sec) : loss = 2.108433961868286 ,validation loss =  2.168898105621338 , accuracy : 0.31479989255976365 , validation accuracy : 0.31239935587761675\n",
      "Epoch n°242 ( 6.0 sec) : loss = 2.1632964611053467 ,validation loss =  2.1518309116363525 , accuracy : 0.32366371206016653 , validation accuracy : 0.2971014492753623\n",
      "Epoch n°243 ( 6.0 sec) : loss = 2.052147626876831 ,validation loss =  2.152059316635132 , accuracy : 0.3274241203330647 , validation accuracy : 0.2898550724637681\n",
      "Epoch n°244 ( 6.0 sec) : loss = 2.094974994659424 ,validation loss =  2.153470277786255 , accuracy : 0.32903572387859253 , validation accuracy : 0.3132045088566828\n",
      "Epoch n°245 ( 6.0 sec) : loss = 2.1786112785339355 ,validation loss =  2.157142400741577 , accuracy : 0.32366371206016653 , validation accuracy : 0.2938808373590982\n",
      "Epoch n°246 ( 6.0 sec) : loss = 2.1760425567626953 ,validation loss =  2.156688690185547 , accuracy : 0.32446951383293043 , validation accuracy : 0.29066022544283415\n",
      "Epoch n°247 ( 6.0 sec) : loss = 2.0429718494415283 ,validation loss =  2.17366361618042 , accuracy : 0.3266183185603008 , validation accuracy : 0.30434782608695654\n",
      "Epoch n°248 ( 6.0 sec) : loss = 2.11685848236084 ,validation loss =  2.154808282852173 , accuracy : 0.31775449905989794 , validation accuracy : 0.3148148148148148\n",
      "Epoch n°249 ( 6.0 sec) : loss = 2.1619808673858643 ,validation loss =  2.1753711700439453 , accuracy : 0.31479989255976365 , validation accuracy : 0.31561996779388085\n",
      "Epoch n°250 ( 6.0 sec) : loss = 2.119509696960449 ,validation loss =  2.1700098514556885 , accuracy : 0.3059360730593607 , validation accuracy : 0.3140096618357488\n",
      "Epoch n°251 ( 6.0 sec) : loss = 2.0452373027801514 ,validation loss =  2.16780686378479 , accuracy : 0.31479989255976365 , validation accuracy : 0.28502415458937197\n",
      "Epoch n°252 ( 6.0 sec) : loss = 2.0218374729156494 ,validation loss =  2.159545421600342 , accuracy : 0.31936610260542575 , validation accuracy : 0.2785829307568438\n",
      "Epoch n°253 ( 6.0 sec) : loss = 2.2252707481384277 ,validation loss =  2.1807048320770264 , accuracy : 0.31023368251410155 , validation accuracy : 0.2753623188405797\n",
      "Epoch n°254 ( 6.0 sec) : loss = 1.9569473266601562 ,validation loss =  2.157280921936035 , accuracy : 0.30942788074133765 , validation accuracy : 0.2890499194847021\n",
      "Epoch n°255 ( 6.0 sec) : loss = 2.0884618759155273 ,validation loss =  2.168727159500122 , accuracy : 0.31023368251410155 , validation accuracy : 0.29790660225442833\n",
      "Epoch n°256 ( 6.0 sec) : loss = 2.0436582565307617 ,validation loss =  2.1524271965026855 , accuracy : 0.31856030083266185 , validation accuracy : 0.2785829307568438\n",
      "Epoch n°257 ( 6.0 sec) : loss = 2.0448713302612305 ,validation loss =  2.158226728439331 , accuracy : 0.3233951114692452 , validation accuracy : 0.3107890499194847\n",
      "Epoch n°258 ( 6.0 sec) : loss = 2.124300241470337 ,validation loss =  2.16066312789917 , accuracy : 0.3220521085146387 , validation accuracy : 0.2938808373590982\n",
      "Epoch n°259 ( 6.0 sec) : loss = 2.0545082092285156 ,validation loss =  2.173923969268799 , accuracy : 0.3075476766048885 , validation accuracy : 0.30193236714975846\n",
      "Epoch n°260 ( 6.0 sec) : loss = 2.0868630409240723 ,validation loss =  2.158912181854248 , accuracy : 0.3228579102874026 , validation accuracy : 0.29871175523349436\n",
      "Epoch n°261 ( 6.0 sec) : loss = 2.180619239807129 ,validation loss =  2.164177179336548 , accuracy : 0.3220521085146387 , validation accuracy : 0.3172302737520129\n",
      "Epoch n°262 ( 6.0 sec) : loss = 2.0441734790802 ,validation loss =  2.159806251525879 , accuracy : 0.31909750201450443 , validation accuracy : 0.28502415458937197\n",
      "Epoch n°263 ( 6.0 sec) : loss = 2.167731523513794 ,validation loss =  2.1504783630371094 , accuracy : 0.32473811442385175 , validation accuracy : 0.30193236714975846\n",
      "Epoch n°264 ( 6.0 sec) : loss = 2.2055516242980957 ,validation loss =  2.131261110305786 , accuracy : 0.3341391351060972 , validation accuracy : 0.31803542673107893\n",
      "Epoch n°265 ( 6.0 sec) : loss = 2.2164604663848877 ,validation loss =  2.153489351272583 , accuracy : 0.33279613215149073 , validation accuracy : 0.2914653784219002\n",
      "Epoch n°266 ( 6.0 sec) : loss = 2.1896677017211914 ,validation loss =  2.1567904949188232 , accuracy : 0.33816814396991673 , validation accuracy : 0.32286634460547503\n",
      "Epoch n°267 ( 6.0 sec) : loss = 2.1236732006073 ,validation loss =  2.147418260574341 , accuracy : 0.3295729250604351 , validation accuracy : 0.29066022544283415\n",
      "Epoch n°268 ( 6.0 sec) : loss = 2.0723230838775635 ,validation loss =  2.133484125137329 , accuracy : 0.3242009132420091 , validation accuracy : 0.3083735909822866\n",
      "Epoch n°269 ( 6.0 sec) : loss = 2.1989853382110596 ,validation loss =  2.1532814502716064 , accuracy : 0.33199033037872683 , validation accuracy : 0.3148148148148148\n",
      "Epoch n°270 ( 6.0 sec) : loss = 2.139568328857422 ,validation loss =  2.139277219772339 , accuracy : 0.33897394574268064 , validation accuracy : 0.30917874396135264\n",
      "Epoch n°271 ( 6.0 sec) : loss = 2.111738920211792 ,validation loss =  2.133800506591797 , accuracy : 0.33199033037872683 , validation accuracy : 0.30676328502415456\n",
      "Epoch n°272 ( 6.0 sec) : loss = 2.1958823204040527 ,validation loss =  2.146556854248047 , accuracy : 0.33548213806070376 , validation accuracy : 0.31561996779388085\n",
      "Epoch n°273 ( 6.0 sec) : loss = 2.0681426525115967 ,validation loss =  2.158388376235962 , accuracy : 0.33682514101531025 , validation accuracy : 0.3027375201288245\n",
      "Epoch n°274 ( 6.0 sec) : loss = 2.1318535804748535 ,validation loss =  2.1523218154907227 , accuracy : 0.33011012624227776 , validation accuracy : 0.2922705314009662\n",
      "Epoch n°275 ( 6.0 sec) : loss = 2.1230082511901855 ,validation loss =  2.1264474391937256 , accuracy : 0.330378726833199 , validation accuracy : 0.2971014492753623\n",
      "Epoch n°276 ( 6.0 sec) : loss = 2.207029104232788 ,validation loss =  2.1717052459716797 , accuracy : 0.34192855224281493 , validation accuracy : 0.2890499194847021\n",
      "Epoch n°277 ( 6.0 sec) : loss = 2.123208522796631 ,validation loss =  2.143794298171997 , accuracy : 0.33225893096964815 , validation accuracy : 0.29066022544283415\n",
      "Epoch n°278 ( 6.0 sec) : loss = 2.1889681816101074 ,validation loss =  2.1414270401000977 , accuracy : 0.330378726833199 , validation accuracy : 0.322061191626409\n",
      "Epoch n°279 ( 6.0 sec) : loss = 2.1245133876800537 ,validation loss =  2.140354633331299 , accuracy : 0.33977974751544454 , validation accuracy : 0.2785829307568438\n",
      "Epoch n°280 ( 6.0 sec) : loss = 2.2046568393707275 ,validation loss =  2.137284517288208 , accuracy : 0.33440773569701854 , validation accuracy : 0.30112721417069244\n",
      "Epoch n°281 ( 5.0 sec) : loss = 2.1639420986175537 ,validation loss =  2.149409055709839 , accuracy : 0.32822992210582863 , validation accuracy : 0.3075684380032206\n",
      "Epoch n°282 ( 6.0 sec) : loss = 2.0421411991119385 ,validation loss =  2.144002676010132 , accuracy : 0.34004834810636586 , validation accuracy : 0.30676328502415456\n",
      "Epoch n°283 ( 6.0 sec) : loss = 2.1673669815063477 ,validation loss =  2.144282102584839 , accuracy : 0.330378726833199 , validation accuracy : 0.3164251207729469\n",
      "Epoch n°284 ( 6.0 sec) : loss = 2.1557981967926025 ,validation loss =  2.1491637229919434 , accuracy : 0.32554391619661566 , validation accuracy : 0.3107890499194847\n",
      "Epoch n°285 ( 6.0 sec) : loss = 2.228424549102783 ,validation loss =  2.1522088050842285 , accuracy : 0.33306473274241205 , validation accuracy : 0.31803542673107893\n",
      "Epoch n°286 ( 6.0 sec) : loss = 2.1545674800872803 ,validation loss =  2.1430416107177734 , accuracy : 0.33091592801504166 , validation accuracy : 0.3035426731078905\n",
      "Epoch n°287 ( 6.0 sec) : loss = 2.0606470108032227 ,validation loss =  2.1456048488616943 , accuracy : 0.3295729250604351 , validation accuracy : 0.3107890499194847\n",
      "Epoch n°288 ( 6.0 sec) : loss = 2.130974769592285 ,validation loss =  2.1568431854248047 , accuracy : 0.33387053451517595 , validation accuracy : 0.29871175523349436\n",
      "Epoch n°289 ( 6.0 sec) : loss = 2.0241987705230713 ,validation loss =  2.151592969894409 , accuracy : 0.34676336287939835 , validation accuracy : 0.2962962962962963\n",
      "Epoch n°290 ( 6.0 sec) : loss = 2.1134092807769775 ,validation loss =  2.1635940074920654 , accuracy : 0.34219715283373625 , validation accuracy : 0.3003220611916264\n",
      "Epoch n°291 ( 6.0 sec) : loss = 2.170891046524048 ,validation loss =  2.1512367725372314 , accuracy : 0.34219715283373625 , validation accuracy : 0.3252818035426731\n",
      "Epoch n°292 ( 6.0 sec) : loss = 2.199831962585449 ,validation loss =  2.144982099533081 , accuracy : 0.330378726833199 , validation accuracy : 0.3107890499194847\n",
      "Epoch n°293 ( 6.0 sec) : loss = 2.159315824508667 ,validation loss =  2.1313371658325195 , accuracy : 0.3349449368788611 , validation accuracy : 0.3083735909822866\n",
      "Epoch n°294 ( 6.0 sec) : loss = 2.087689161300659 ,validation loss =  2.1445631980895996 , accuracy : 0.34192855224281493 , validation accuracy : 0.31239935587761675\n",
      "Epoch n°295 ( 6.0 sec) : loss = 2.1575381755828857 ,validation loss =  2.155709981918335 , accuracy : 0.3266183185603008 , validation accuracy : 0.3115942028985507\n",
      "Epoch n°296 ( 6.0 sec) : loss = 2.2020182609558105 ,validation loss =  2.1506385803222656 , accuracy : 0.33548213806070376 , validation accuracy : 0.30112721417069244\n",
      "Epoch n°297 ( 6.0 sec) : loss = 2.1842947006225586 ,validation loss =  2.1671950817108154 , accuracy : 0.3378995433789954 , validation accuracy : 0.3035426731078905\n",
      "Epoch n°298 ( 6.0 sec) : loss = 2.127957820892334 ,validation loss =  2.168166160583496 , accuracy : 0.3362879398334676 , validation accuracy : 0.3083735909822866\n",
      "Epoch n°299 ( 6.0 sec) : loss = 2.062408447265625 ,validation loss =  2.158918857574463 , accuracy : 0.32688691915122214 , validation accuracy : 0.30917874396135264\n",
      "Epoch n°300 ( 6.0 sec) : loss = 2.2675445079803467 ,validation loss =  2.156130790710449 , accuracy : 0.34004834810636586 , validation accuracy : 0.3083735909822866\n",
      "Epoch n°301 ( 6.0 sec) : loss = 2.232628345489502 ,validation loss =  2.1528055667877197 , accuracy : 0.33682514101531025 , validation accuracy : 0.3107890499194847\n",
      "Epoch n°302 ( 6.0 sec) : loss = 2.163581371307373 ,validation loss =  2.1461541652679443 , accuracy : 0.33897394574268064 , validation accuracy : 0.29549114331723025\n",
      "Epoch n°303 ( 6.0 sec) : loss = 2.1132240295410156 ,validation loss =  2.150381326675415 , accuracy : 0.3266183185603008 , validation accuracy : 0.2995169082125604\n",
      "Epoch n°304 ( 6.0 sec) : loss = 2.085697650909424 ,validation loss =  2.154944658279419 , accuracy : 0.33387053451517595 , validation accuracy : 0.28743961352657005\n",
      "Epoch n°305 ( 6.0 sec) : loss = 2.16481876373291 ,validation loss =  2.1397104263305664 , accuracy : 0.32849852269674995 , validation accuracy : 0.3075684380032206\n",
      "Epoch n°306 ( 6.0 sec) : loss = 2.2200281620025635 ,validation loss =  2.167325973510742 , accuracy : 0.32446951383293043 , validation accuracy : 0.3164251207729469\n",
      "Epoch n°307 ( 6.0 sec) : loss = 2.0813066959381104 ,validation loss =  2.145817995071411 , accuracy : 0.3295729250604351 , validation accuracy : 0.30112721417069244\n",
      "Epoch n°308 ( 6.0 sec) : loss = 2.1160876750946045 ,validation loss =  2.1632487773895264 , accuracy : 0.3378995433789954 , validation accuracy : 0.3027375201288245\n",
      "Epoch n°309 ( 6.0 sec) : loss = 2.1189420223236084 ,validation loss =  2.1341474056243896 , accuracy : 0.3349449368788611 , validation accuracy : 0.2962962962962963\n",
      "Epoch n°310 ( 6.0 sec) : loss = 2.0708813667297363 ,validation loss =  2.1379404067993164 , accuracy : 0.33440773569701854 , validation accuracy : 0.3075684380032206\n",
      "Epoch n°311 ( 6.0 sec) : loss = 2.0027859210968018 ,validation loss =  2.1450412273406982 , accuracy : 0.3403169486972871 , validation accuracy : 0.3140096618357488\n",
      "Epoch n°312 ( 6.0 sec) : loss = 2.12251353263855 ,validation loss =  2.1318979263305664 , accuracy : 0.34112275047005103 , validation accuracy : 0.2962962962962963\n",
      "Epoch n°313 ( 6.0 sec) : loss = 2.1542351245880127 ,validation loss =  2.146432399749756 , accuracy : 0.34139135106097235 , validation accuracy : 0.3035426731078905\n",
      "Epoch n°314 ( 6.0 sec) : loss = 2.0639755725860596 ,validation loss =  2.134819984436035 , accuracy : 0.34219715283373625 , validation accuracy : 0.3333333333333333\n",
      "Epoch n°315 ( 6.0 sec) : loss = 2.1556031703948975 ,validation loss =  2.1614391803741455 , accuracy : 0.35374697824335216 , validation accuracy : 0.3148148148148148\n",
      "Epoch n°316 ( 6.0 sec) : loss = 2.116009473800659 ,validation loss =  2.148003339767456 , accuracy : 0.34810636583400484 , validation accuracy : 0.2882447665056361\n",
      "Epoch n°317 ( 6.0 sec) : loss = 2.018613338470459 ,validation loss =  2.1496498584747314 , accuracy : 0.3370937416062315 , validation accuracy : 0.3115942028985507\n",
      "Epoch n°318 ( 6.0 sec) : loss = 2.077721357345581 ,validation loss =  2.149606227874756 , accuracy : 0.3478377652430835 , validation accuracy : 0.30434782608695654\n",
      "Epoch n°319 ( 6.0 sec) : loss = 2.060580253601074 ,validation loss =  2.124154567718506 , accuracy : 0.3341391351060972 , validation accuracy : 0.3083735909822866\n",
      "Epoch n°320 ( 6.0 sec) : loss = 2.2177658081054688 ,validation loss =  2.1492691040039062 , accuracy : 0.33306473274241205 , validation accuracy : 0.3140096618357488\n",
      "Epoch n°321 ( 6.0 sec) : loss = 2.129141092300415 ,validation loss =  2.146393060684204 , accuracy : 0.3370937416062315 , validation accuracy : 0.31561996779388085\n",
      "Epoch n°322 ( 6.0 sec) : loss = 2.0936291217803955 ,validation loss =  2.1482508182525635 , accuracy : 0.3341391351060972 , validation accuracy : 0.3148148148148148\n",
      "Epoch n°323 ( 6.0 sec) : loss = 2.068650722503662 ,validation loss =  2.1533448696136475 , accuracy : 0.330378726833199 , validation accuracy : 0.30998389694041867\n",
      "Epoch n°324 ( 6.0 sec) : loss = 2.0029547214508057 ,validation loss =  2.158054828643799 , accuracy : 0.32527531560569434 , validation accuracy : 0.3083735909822866\n",
      "Epoch n°325 ( 6.0 sec) : loss = 2.0132508277893066 ,validation loss =  2.157745122909546 , accuracy : 0.33279613215149073 , validation accuracy : 0.3132045088566828\n",
      "Epoch n°326 ( 6.0 sec) : loss = 2.07564377784729 ,validation loss =  2.137035608291626 , accuracy : 0.33279613215149073 , validation accuracy : 0.29790660225442833\n",
      "Epoch n°327 ( 6.0 sec) : loss = 2.1966543197631836 ,validation loss =  2.153534173965454 , accuracy : 0.33306473274241205 , validation accuracy : 0.3035426731078905\n",
      "Epoch n°328 ( 6.0 sec) : loss = 2.1829614639282227 ,validation loss =  2.1566827297210693 , accuracy : 0.33360193392425463 , validation accuracy : 0.3027375201288245\n",
      "Epoch n°329 ( 6.0 sec) : loss = 2.0470831394195557 ,validation loss =  2.1680867671966553 , accuracy : 0.32608111737845824 , validation accuracy : 0.2962962962962963\n",
      "Epoch n°330 ( 6.0 sec) : loss = 2.1151657104492188 ,validation loss =  2.166978120803833 , accuracy : 0.32634971796937956 , validation accuracy : 0.3172302737520129\n",
      "Epoch n°331 ( 6.0 sec) : loss = 2.178386688232422 ,validation loss =  2.141322374343872 , accuracy : 0.33521353746978244 , validation accuracy : 0.286634460547504\n",
      "Epoch n°332 ( 6.0 sec) : loss = 2.1485140323638916 ,validation loss =  2.145557403564453 , accuracy : 0.32070910556003224 , validation accuracy : 0.30917874396135264\n",
      "Epoch n°333 ( 6.0 sec) : loss = 1.971262812614441 ,validation loss =  2.14634370803833 , accuracy : 0.32688691915122214 , validation accuracy : 0.3365539452495974\n",
      "Epoch n°334 ( 6.0 sec) : loss = 2.1326792240142822 ,validation loss =  2.152524471282959 , accuracy : 0.32688691915122214 , validation accuracy : 0.2890499194847021\n",
      "Epoch n°335 ( 6.0 sec) : loss = 2.0458548069000244 ,validation loss =  2.1624019145965576 , accuracy : 0.32527531560569434 , validation accuracy : 0.3059581320450886\n",
      "Epoch n°336 ( 6.0 sec) : loss = 2.092353582382202 ,validation loss =  2.1505014896392822 , accuracy : 0.32984152565135644 , validation accuracy : 0.31239935587761675\n",
      "Epoch n°337 ( 6.0 sec) : loss = 2.0843422412872314 ,validation loss =  2.1483328342437744 , accuracy : 0.319634703196347 , validation accuracy : 0.29066022544283415\n",
      "Epoch n°338 ( 6.0 sec) : loss = 2.1895179748535156 ,validation loss =  2.149956703186035 , accuracy : 0.3295729250604351 , validation accuracy : 0.285829307568438\n",
      "Epoch n°339 ( 6.0 sec) : loss = 2.21286678314209 ,validation loss =  2.147507905960083 , accuracy : 0.31909750201450443 , validation accuracy : 0.31239935587761675\n",
      "Epoch n°340 ( 6.0 sec) : loss = 2.2060904502868652 ,validation loss =  2.1535861492156982 , accuracy : 0.32393231265108785 , validation accuracy : 0.30193236714975846\n",
      "Epoch n°341 ( 6.0 sec) : loss = 2.16068172454834 ,validation loss =  2.1523311138153076 , accuracy : 0.32446951383293043 , validation accuracy : 0.3107890499194847\n",
      "Epoch n°342 ( 6.0 sec) : loss = 2.2330806255340576 ,validation loss =  2.1382269859313965 , accuracy : 0.33306473274241205 , validation accuracy : 0.3140096618357488\n",
      "Epoch n°343 ( 6.0 sec) : loss = 2.150967836380005 ,validation loss =  2.1547927856445312 , accuracy : 0.34273435401557883 , validation accuracy : 0.31561996779388085\n",
      "Epoch n°344 ( 6.0 sec) : loss = 2.302953004837036 ,validation loss =  2.1535487174987793 , accuracy : 0.3524039752887456 , validation accuracy : 0.30193236714975846\n",
      "Epoch n°345 ( 6.0 sec) : loss = 2.1361753940582275 ,validation loss =  2.1347193717956543 , accuracy : 0.33924254633360196 , validation accuracy : 0.30515297906602257\n",
      "Epoch n°346 ( 6.0 sec) : loss = 2.1777727603912354 ,validation loss =  2.152588367462158 , accuracy : 0.33682514101531025 , validation accuracy : 0.30515297906602257\n",
      "Epoch n°347 ( 6.0 sec) : loss = 2.185091733932495 ,validation loss =  2.136296510696411 , accuracy : 0.33924254633360196 , validation accuracy : 0.2946859903381642\n",
      "Epoch n°348 ( 6.0 sec) : loss = 2.1309123039245605 ,validation loss =  2.140897035598755 , accuracy : 0.3395111469245232 , validation accuracy : 0.3365539452495974\n",
      "Epoch n°349 ( 6.0 sec) : loss = 2.0931262969970703 ,validation loss =  2.131650686264038 , accuracy : 0.35052377115229655 , validation accuracy : 0.30998389694041867\n",
      "Epoch n°350 ( 6.0 sec) : loss = 2.185892343521118 ,validation loss =  2.1538121700286865 , accuracy : 0.34756916465216225 , validation accuracy : 0.32286634460547503\n",
      "Epoch n°351 ( 6.0 sec) : loss = 2.0438780784606934 ,validation loss =  2.151017665863037 , accuracy : 0.3408541498791297 , validation accuracy : 0.3107890499194847\n",
      "Epoch n°352 ( 6.0 sec) : loss = 2.0656206607818604 ,validation loss =  2.14192795753479 , accuracy : 0.34434595756110664 , validation accuracy : 0.31561996779388085\n",
      "Epoch n°353 ( 6.0 sec) : loss = 2.2142763137817383 ,validation loss =  2.1445698738098145 , accuracy : 0.35294117647058826 , validation accuracy : 0.31239935587761675\n",
      "Epoch n°354 ( 6.0 sec) : loss = 2.045914888381958 ,validation loss =  2.145531415939331 , accuracy : 0.3494493687886113 , validation accuracy : 0.3172302737520129\n",
      "Epoch n°355 ( 6.0 sec) : loss = 2.1302762031555176 ,validation loss =  2.139030694961548 , accuracy : 0.3507923717432178 , validation accuracy : 0.3357487922705314\n",
      "Epoch n°356 ( 6.0 sec) : loss = 1.992902159690857 ,validation loss =  2.139801025390625 , accuracy : 0.35294117647058826 , validation accuracy : 0.3132045088566828\n",
      "Epoch n°357 ( 6.0 sec) : loss = 2.1411235332489014 ,validation loss =  2.130769729614258 , accuracy : 0.36261079774375504 , validation accuracy : 0.33735909822866345\n",
      "Epoch n°358 ( 6.0 sec) : loss = 2.120192050933838 ,validation loss =  2.1325395107269287 , accuracy : 0.35508998119795865 , validation accuracy : 0.31803542673107893\n",
      "Epoch n°359 ( 6.0 sec) : loss = 2.1194472312927246 ,validation loss =  2.1451127529144287 , accuracy : 0.36046199301638465 , validation accuracy : 0.321256038647343\n",
      "Epoch n°360 ( 6.0 sec) : loss = 2.0705225467681885 ,validation loss =  2.1390974521636963 , accuracy : 0.36583400483481066 , validation accuracy : 0.34057971014492755\n",
      "Epoch n°361 ( 6.0 sec) : loss = 2.042943239212036 ,validation loss =  2.1372230052948 , accuracy : 0.35508998119795865 , validation accuracy : 0.32045088566827695\n",
      "Epoch n°362 ( 6.0 sec) : loss = 2.0936172008514404 ,validation loss =  2.135205030441284 , accuracy : 0.36287939833467636 , validation accuracy : 0.3244766505636071\n",
      "Epoch n°363 ( 6.0 sec) : loss = 2.1640827655792236 ,validation loss =  2.1429827213287354 , accuracy : 0.36287939833467636 , validation accuracy : 0.3164251207729469\n",
      "Epoch n°364 ( 6.0 sec) : loss = 2.187229871749878 ,validation loss =  2.152343273162842 , accuracy : 0.3682514101531023 , validation accuracy : 0.322061191626409\n",
      "Epoch n°365 ( 6.0 sec) : loss = 2.0782878398895264 ,validation loss =  2.1388394832611084 , accuracy : 0.3532097770615095 , validation accuracy : 0.33172302737520126\n",
      "Epoch n°366 ( 6.0 sec) : loss = 2.075374126434326 ,validation loss =  2.1281354427337646 , accuracy : 0.3561643835616438 , validation accuracy : 0.30998389694041867\n",
      "Epoch n°367 ( 6.0 sec) : loss = 2.063540458679199 ,validation loss =  2.1412200927734375 , accuracy : 0.34273435401557883 , validation accuracy : 0.32608695652173914\n",
      "Epoch n°368 ( 6.0 sec) : loss = 2.059985876083374 ,validation loss =  2.1390068531036377 , accuracy : 0.35106097233413913 , validation accuracy : 0.33172302737520126\n",
      "Epoch n°369 ( 6.0 sec) : loss = 2.1484293937683105 ,validation loss =  2.1230177879333496 , accuracy : 0.34300295460650015 , validation accuracy : 0.34782608695652173\n",
      "Epoch n°370 ( 6.0 sec) : loss = 2.1657116413116455 ,validation loss =  2.13096284866333 , accuracy : 0.3499865699704539 , validation accuracy : 0.32286634460547503\n",
      "Epoch n°371 ( 6.0 sec) : loss = 2.2050352096557617 ,validation loss =  2.140270948410034 , accuracy : 0.3448831587429492 , validation accuracy : 0.31239935587761675\n",
      "Epoch n°372 ( 6.0 sec) : loss = 2.1408116817474365 ,validation loss =  2.125997304916382 , accuracy : 0.3494493687886113 , validation accuracy : 0.3132045088566828\n",
      "Epoch n°373 ( 6.0 sec) : loss = 2.130262613296509 ,validation loss =  2.1365108489990234 , accuracy : 0.35213537469782435 , validation accuracy : 0.3413848631239936\n",
      "Epoch n°374 ( 6.0 sec) : loss = 2.112633466720581 ,validation loss =  2.1405625343322754 , accuracy : 0.3569701853344077 , validation accuracy : 0.31561996779388085\n",
      "Epoch n°375 ( 6.0 sec) : loss = 2.0931661128997803 ,validation loss =  2.125244617462158 , accuracy : 0.34756916465216225 , validation accuracy : 0.31239935587761675\n",
      "Epoch n°376 ( 6.0 sec) : loss = 2.1199870109558105 ,validation loss =  2.1246278285980225 , accuracy : 0.35374697824335216 , validation accuracy : 0.33413848631239934\n",
      "Epoch n°377 ( 6.0 sec) : loss = 2.1862850189208984 ,validation loss =  2.1377854347229004 , accuracy : 0.35374697824335216 , validation accuracy : 0.32689210950080516\n",
      "Epoch n°378 ( 6.0 sec) : loss = 2.1160173416137695 ,validation loss =  2.1232945919036865 , accuracy : 0.3644910018802041 , validation accuracy : 0.3252818035426731\n",
      "Epoch n°379 ( 6.0 sec) : loss = 2.097442150115967 ,validation loss =  2.1168012619018555 , accuracy : 0.36046199301638465 , validation accuracy : 0.32608695652173914\n",
      "Epoch n°380 ( 6.0 sec) : loss = 2.102736711502075 ,validation loss =  2.127291679382324 , accuracy : 0.3470319634703196 , validation accuracy : 0.3397745571658615\n",
      "Epoch n°381 ( 6.0 sec) : loss = 2.163377285003662 ,validation loss =  2.1359996795654297 , accuracy : 0.3540155788342734 , validation accuracy : 0.30676328502415456\n",
      "Epoch n°382 ( 6.0 sec) : loss = 2.078545570373535 ,validation loss =  2.1333682537078857 , accuracy : 0.3440773569701853 , validation accuracy : 0.31561996779388085\n",
      "Epoch n°383 ( 6.0 sec) : loss = 2.1713006496429443 ,validation loss =  2.1431682109832764 , accuracy : 0.3387053451517593 , validation accuracy : 0.33172302737520126\n",
      "Epoch n°384 ( 6.0 sec) : loss = 2.132418394088745 ,validation loss =  2.1341392993927 , accuracy : 0.3470319634703196 , validation accuracy : 0.32286634460547503\n",
      "Epoch n°385 ( 6.0 sec) : loss = 2.03587007522583 ,validation loss =  2.133052110671997 , accuracy : 0.3470319634703196 , validation accuracy : 0.30998389694041867\n",
      "Epoch n°386 ( 6.0 sec) : loss = 2.220743179321289 ,validation loss =  2.1223013401031494 , accuracy : 0.34891216760676874 , validation accuracy : 0.3027375201288245\n",
      "Epoch n°387 ( 6.0 sec) : loss = 2.1903393268585205 ,validation loss =  2.1455490589141846 , accuracy : 0.33225893096964815 , validation accuracy : 0.3389694041867955\n",
      "Epoch n°388 ( 6.0 sec) : loss = 2.1110801696777344 ,validation loss =  2.1395466327667236 , accuracy : 0.3486435670158474 , validation accuracy : 0.32045088566827695\n",
      "Epoch n°389 ( 6.0 sec) : loss = 2.138410806655884 ,validation loss =  2.134467124938965 , accuracy : 0.34837496642492616 , validation accuracy : 0.33494363929146537\n",
      "Epoch n°390 ( 6.0 sec) : loss = 2.2026119232177734 ,validation loss =  2.128063201904297 , accuracy : 0.36717700778941714 , validation accuracy : 0.31561996779388085\n",
      "Epoch n°391 ( 6.0 sec) : loss = 2.177969455718994 ,validation loss =  2.130479574203491 , accuracy : 0.3623421971528337 , validation accuracy : 0.30998389694041867\n",
      "Epoch n°392 ( 7.0 sec) : loss = 2.1818437576293945 ,validation loss =  2.1245839595794678 , accuracy : 0.3607305936073059 , validation accuracy : 0.34299516908212563\n",
      "Epoch n°393 ( 6.0 sec) : loss = 2.1446828842163086 ,validation loss =  2.128438949584961 , accuracy : 0.34300295460650015 , validation accuracy : 0.32689210950080516\n",
      "Epoch n°394 ( 6.0 sec) : loss = 2.079310178756714 ,validation loss =  2.1323435306549072 , accuracy : 0.3494493687886113 , validation accuracy : 0.33413848631239934\n",
      "Epoch n°395 ( 6.0 sec) : loss = 2.109858751296997 ,validation loss =  2.142566680908203 , accuracy : 0.35831318828901426 , validation accuracy : 0.33011272141706927\n",
      "Epoch n°396 ( 6.0 sec) : loss = 2.1577889919281006 ,validation loss =  2.1254961490631104 , accuracy : 0.35347837765243084 , validation accuracy : 0.321256038647343\n",
      "Epoch n°397 ( 6.0 sec) : loss = 2.1579318046569824 ,validation loss =  2.140052318572998 , accuracy : 0.3448831587429492 , validation accuracy : 0.33011272141706927\n",
      "Epoch n°398 ( 6.0 sec) : loss = 2.128739833831787 ,validation loss =  2.132154703140259 , accuracy : 0.34918076819769006 , validation accuracy : 0.33011272141706927\n",
      "Epoch n°399 ( 6.0 sec) : loss = 2.095430374145508 ,validation loss =  2.137202739715576 , accuracy : 0.3424657534246575 , validation accuracy : 0.3357487922705314\n",
      "Epoch n°400 ( 6.0 sec) : loss = 2.0423200130462646 ,validation loss =  2.129477024078369 , accuracy : 0.35428417942519475 , validation accuracy : 0.3333333333333333\n",
      "Epoch n°401 ( 6.0 sec) : loss = 2.077038288116455 ,validation loss =  2.139075994491577 , accuracy : 0.3569701853344077 , validation accuracy : 0.3115942028985507\n",
      "Epoch n°402 ( 6.0 sec) : loss = 2.1161491870880127 ,validation loss =  2.1274564266204834 , accuracy : 0.3494493687886113 , validation accuracy : 0.33011272141706927\n",
      "Epoch n°403 ( 6.0 sec) : loss = 2.1506781578063965 ,validation loss =  2.120368003845215 , accuracy : 0.36717700778941714 , validation accuracy : 0.32930756843800324\n",
      "Epoch n°404 ( 6.0 sec) : loss = 2.1627726554870605 ,validation loss =  2.1211190223693848 , accuracy : 0.3577759871071716 , validation accuracy : 0.3413848631239936\n",
      "Epoch n°405 ( 6.0 sec) : loss = 2.137397527694702 ,validation loss =  2.1474063396453857 , accuracy : 0.3677142089712597 , validation accuracy : 0.32608695652173914\n",
      "Epoch n°406 ( 6.0 sec) : loss = 2.0248794555664062 ,validation loss =  2.1315386295318604 , accuracy : 0.3462261616975557 , validation accuracy : 0.3309178743961353\n",
      "Epoch n°407 ( 6.0 sec) : loss = 2.120840549468994 ,validation loss =  2.120032548904419 , accuracy : 0.3690572119258662 , validation accuracy : 0.3172302737520129\n",
      "Epoch n°408 ( 6.0 sec) : loss = 2.1535003185272217 ,validation loss =  2.1307034492492676 , accuracy : 0.3615363953800698 , validation accuracy : 0.3115942028985507\n",
      "Epoch n°409 ( 6.0 sec) : loss = 2.124420166015625 ,validation loss =  2.115048885345459 , accuracy : 0.3577759871071716 , validation accuracy : 0.3132045088566828\n",
      "Epoch n°410 ( 6.0 sec) : loss = 2.180717945098877 ,validation loss =  2.126295804977417 , accuracy : 0.36395380069836153 , validation accuracy : 0.3244766505636071\n",
      "Epoch n°411 ( 6.0 sec) : loss = 2.1130051612854004 ,validation loss =  2.1404473781585693 , accuracy : 0.35562718237980123 , validation accuracy : 0.3285024154589372\n",
      "Epoch n°412 ( 6.0 sec) : loss = 2.1998538970947266 ,validation loss =  2.135047197341919 , accuracy : 0.354552780016116 , validation accuracy : 0.29790660225442833\n",
      "Epoch n°413 ( 6.0 sec) : loss = 2.0239381790161133 ,validation loss =  2.143232822418213 , accuracy : 0.35723878592532904 , validation accuracy : 0.3413848631239936\n",
      "Epoch n°414 ( 6.0 sec) : loss = 2.0853686332702637 ,validation loss =  2.146916151046753 , accuracy : 0.3478377652430835 , validation accuracy : 0.3083735909822866\n",
      "Epoch n°415 ( 7.0 sec) : loss = 2.0963804721832275 ,validation loss =  2.1453793048858643 , accuracy : 0.3577759871071716 , validation accuracy : 0.30515297906602257\n",
      "Epoch n°416 ( 6.0 sec) : loss = 2.141786575317383 ,validation loss =  2.1374306678771973 , accuracy : 0.35186677410690304 , validation accuracy : 0.30917874396135264\n",
      "Epoch n°417 ( 6.0 sec) : loss = 2.1368348598480225 ,validation loss =  2.138211727142334 , accuracy : 0.3577759871071716 , validation accuracy : 0.3172302737520129\n",
      "Epoch n°418 ( 6.0 sec) : loss = 2.1746668815612793 ,validation loss =  2.139908790588379 , accuracy : 0.36395380069836153 , validation accuracy : 0.35185185185185186\n",
      "Epoch n°419 ( 7.0 sec) : loss = 2.195631980895996 ,validation loss =  2.1281139850616455 , accuracy : 0.3631479989255976 , validation accuracy : 0.3075684380032206\n",
      "Epoch n°420 ( 6.0 sec) : loss = 2.1603891849517822 ,validation loss =  2.1248855590820312 , accuracy : 0.37416062315337095 , validation accuracy : 0.3365539452495974\n",
      "Epoch n°421 ( 7.0 sec) : loss = 2.1519274711608887 ,validation loss =  2.1271519660949707 , accuracy : 0.38221864088100993 , validation accuracy : 0.35426731078904994\n",
      "Epoch n°422 ( 6.0 sec) : loss = 2.0904266834259033 ,validation loss =  2.125296115875244 , accuracy : 0.36126779478914856 , validation accuracy : 0.3188405797101449\n",
      "Epoch n°423 ( 6.0 sec) : loss = 2.121774673461914 ,validation loss =  2.125932216644287 , accuracy : 0.3698630136986301 , validation accuracy : 0.34782608695652173\n",
      "Epoch n°424 ( 6.0 sec) : loss = 2.117645502090454 ,validation loss =  2.1175460815429688 , accuracy : 0.37469782433521354 , validation accuracy : 0.32930756843800324\n",
      "Epoch n°425 ( 6.0 sec) : loss = 2.0839405059814453 ,validation loss =  2.121206283569336 , accuracy : 0.3661026054257319 , validation accuracy : 0.32045088566827695\n",
      "Epoch n°426 ( 6.0 sec) : loss = 2.1581180095672607 ,validation loss =  2.137864112854004 , accuracy : 0.36207359656191246 , validation accuracy : 0.3188405797101449\n",
      "Epoch n°427 ( 6.0 sec) : loss = 2.108673572540283 ,validation loss =  2.129854679107666 , accuracy : 0.36663980660757456 , validation accuracy : 0.32689210950080516\n",
      "Epoch n°428 ( 6.0 sec) : loss = 2.0854673385620117 ,validation loss =  2.1214146614074707 , accuracy : 0.38006983615363954 , validation accuracy : 0.3333333333333333\n",
      "Epoch n°429 ( 6.0 sec) : loss = 2.0919296741485596 ,validation loss =  2.1159274578094482 , accuracy : 0.3677142089712597 , validation accuracy : 0.31561996779388085\n",
      "Epoch n°430 ( 6.0 sec) : loss = 2.1232826709747314 ,validation loss =  2.1231837272644043 , accuracy : 0.36261079774375504 , validation accuracy : 0.3421900161030596\n",
      "Epoch n°431 ( 6.0 sec) : loss = 2.0863590240478516 ,validation loss =  2.125985622406006 , accuracy : 0.37335482138060705 , validation accuracy : 0.34541062801932365\n",
      "Epoch n°432 ( 6.0 sec) : loss = 2.0522284507751465 ,validation loss =  2.1238813400268555 , accuracy : 0.36556540424388934 , validation accuracy : 0.3607085346215781\n",
      "Epoch n°433 ( 6.0 sec) : loss = 2.2423205375671387 ,validation loss =  2.1104931831359863 , accuracy : 0.37845823260811173 , validation accuracy : 0.34863123993558776\n",
      "Epoch n°434 ( 6.0 sec) : loss = 2.083461284637451 ,validation loss =  2.0906169414520264 , accuracy : 0.3623421971528337 , validation accuracy : 0.33011272141706927\n",
      "Epoch n°435 ( 6.0 sec) : loss = 2.053678512573242 ,validation loss =  2.1111299991607666 , accuracy : 0.35965619124362075 , validation accuracy : 0.3357487922705314\n",
      "Epoch n°436 ( 6.0 sec) : loss = 2.179476022720337 ,validation loss =  2.1093130111694336 , accuracy : 0.37792103142626915 , validation accuracy : 0.3333333333333333\n",
      "Epoch n°437 ( 6.0 sec) : loss = 2.097064733505249 ,validation loss =  2.113359212875366 , accuracy : 0.37630942788074134 , validation accuracy : 0.34541062801932365\n",
      "Epoch n°438 ( 6.0 sec) : loss = 2.0329720973968506 ,validation loss =  2.111855983734131 , accuracy : 0.36637120601665324 , validation accuracy : 0.33413848631239934\n",
      "Epoch n°439 ( 7.0 sec) : loss = 2.01027512550354 ,validation loss =  2.0966415405273438 , accuracy : 0.36878861133494495 , validation accuracy : 0.34299516908212563\n",
      "Epoch n°440 ( 6.0 sec) : loss = 2.0705790519714355 ,validation loss =  2.115722179412842 , accuracy : 0.37711522965350525 , validation accuracy : 0.34299516908212563\n",
      "Epoch n°441 ( 6.0 sec) : loss = 1.9507304430007935 ,validation loss =  2.1212410926818848 , accuracy : 0.3728176201987644 , validation accuracy : 0.3446054750402576\n",
      "Epoch n°442 ( 6.0 sec) : loss = 2.1290345191955566 ,validation loss =  2.1244866847991943 , accuracy : 0.37201181842600056 , validation accuracy : 0.357487922705314\n",
      "Epoch n°443 ( 6.0 sec) : loss = 2.112276315689087 ,validation loss =  2.1103055477142334 , accuracy : 0.36932581251678753 , validation accuracy : 0.33172302737520126\n",
      "Epoch n°444 ( 6.0 sec) : loss = 1.9857656955718994 ,validation loss =  2.1273915767669678 , accuracy : 0.38329304324469515 , validation accuracy : 0.3470209339774557\n",
      "Epoch n°445 ( 7.0 sec) : loss = 2.0816783905029297 ,validation loss =  2.1153128147125244 , accuracy : 0.36744560838033846 , validation accuracy : 0.35185185185185186\n",
      "Epoch n°446 ( 6.0 sec) : loss = 2.1926965713500977 ,validation loss =  2.1027534008026123 , accuracy : 0.36207359656191246 , validation accuracy : 0.34299516908212563\n",
      "Epoch n°447 ( 6.0 sec) : loss = 2.043466567993164 ,validation loss =  2.103928327560425 , accuracy : 0.370668815471394 , validation accuracy : 0.3438003220611916\n",
      "Epoch n°448 ( 6.0 sec) : loss = 2.1098532676696777 ,validation loss =  2.127434253692627 , accuracy : 0.3677142089712597 , validation accuracy : 0.33735909822866345\n",
      "Epoch n°449 ( 6.0 sec) : loss = 2.120487928390503 ,validation loss =  2.116457939147949 , accuracy : 0.38114423851732476 , validation accuracy : 0.3446054750402576\n",
      "Epoch n°450 ( 5.0 sec) : loss = 2.184983491897583 ,validation loss =  2.128418207168579 , accuracy : 0.36583400483481066 , validation accuracy : 0.30998389694041867\n",
      "Epoch n°451 ( 6.0 sec) : loss = 2.2279207706451416 ,validation loss =  2.125960350036621 , accuracy : 0.3752350255170561 , validation accuracy : 0.3365539452495974\n",
      "Epoch n°452 ( 6.0 sec) : loss = 2.095595598220825 ,validation loss =  2.11763072013855 , accuracy : 0.3781896320171904 , validation accuracy : 0.33172302737520126\n",
      "Epoch n°453 ( 6.0 sec) : loss = 2.146646738052368 ,validation loss =  2.121084213256836 , accuracy : 0.37335482138060705 , validation accuracy : 0.3526570048309179\n",
      "Epoch n°454 ( 6.0 sec) : loss = 2.055661678314209 ,validation loss =  2.1084938049316406 , accuracy : 0.3789954337899543 , validation accuracy : 0.3325281803542673\n",
      "Epoch n°455 ( 6.0 sec) : loss = 2.1251487731933594 ,validation loss =  2.11434006690979 , accuracy : 0.36717700778941714 , validation accuracy : 0.34057971014492755\n",
      "Epoch n°456 ( 6.0 sec) : loss = 2.1539456844329834 ,validation loss =  2.1142325401306152 , accuracy : 0.37335482138060705 , validation accuracy : 0.3526570048309179\n",
      "Epoch n°457 ( 6.0 sec) : loss = 2.162134885787964 ,validation loss =  2.1180598735809326 , accuracy : 0.37013161428955144 , validation accuracy : 0.35507246376811596\n",
      "Epoch n°458 ( 6.0 sec) : loss = 2.1129159927368164 ,validation loss =  2.1149187088012695 , accuracy : 0.38006983615363954 , validation accuracy : 0.35829307568438\n",
      "Epoch n°459 ( 6.0 sec) : loss = 1.993432641029358 ,validation loss =  2.113764524459839 , accuracy : 0.38705345151759335 , validation accuracy : 0.3534621578099839\n",
      "Epoch n°460 ( 6.0 sec) : loss = 2.1534435749053955 ,validation loss =  2.123422622680664 , accuracy : 0.3798012355627182 , validation accuracy : 0.34299516908212563\n",
      "Epoch n°461 ( 6.0 sec) : loss = 2.14808988571167 ,validation loss =  2.1057069301605225 , accuracy : 0.3736234219715283 , validation accuracy : 0.35185185185185186\n",
      "Epoch n°462 ( 6.0 sec) : loss = 2.009046792984009 ,validation loss =  2.125474691390991 , accuracy : 0.39135106097233413 , validation accuracy : 0.3365539452495974\n",
      "Epoch n°463 ( 6.0 sec) : loss = 2.123415231704712 ,validation loss =  2.1091949939727783 , accuracy : 0.37389202256244963 , validation accuracy : 0.32930756843800324\n",
      "Epoch n°464 ( 6.0 sec) : loss = 2.0321078300476074 ,validation loss =  2.1207804679870605 , accuracy : 0.38839645447219984 , validation accuracy : 0.31561996779388085\n",
      "Epoch n°465 ( 5.0 sec) : loss = 2.07405161857605 ,validation loss =  2.1040306091308594 , accuracy : 0.37845823260811173 , validation accuracy : 0.3244766505636071\n",
      "Epoch n°466 ( 6.0 sec) : loss = 2.109665870666504 ,validation loss =  2.105403423309326 , accuracy : 0.36744560838033846 , validation accuracy : 0.33413848631239934\n",
      "Epoch n°467 ( 6.0 sec) : loss = 2.1830010414123535 ,validation loss =  2.119046926498413 , accuracy : 0.38033843674456086 , validation accuracy : 0.3494363929146538\n",
      "Epoch n°468 ( 6.0 sec) : loss = 2.235050916671753 ,validation loss =  2.118128538131714 , accuracy : 0.3789954337899543 , validation accuracy : 0.34782608695652173\n",
      "Epoch n°469 ( 6.0 sec) : loss = 2.106771230697632 ,validation loss =  2.105729103088379 , accuracy : 0.38490464679022296 , validation accuracy : 0.33735909822866345\n",
      "Epoch n°470 ( 6.0 sec) : loss = 2.03159761428833 ,validation loss =  2.1177866458892822 , accuracy : 0.37335482138060705 , validation accuracy : 0.321256038647343\n",
      "Epoch n°471 ( 6.0 sec) : loss = 2.0150370597839355 ,validation loss =  2.117253541946411 , accuracy : 0.3714746172441579 , validation accuracy : 0.33816425120772947\n",
      "Epoch n°472 ( 6.0 sec) : loss = 2.0712625980377197 ,validation loss =  2.1291658878326416 , accuracy : 0.38168143969916735 , validation accuracy : 0.357487922705314\n",
      "Epoch n°473 ( 6.0 sec) : loss = 2.0806870460510254 ,validation loss =  2.096975803375244 , accuracy : 0.3859790491539081 , validation accuracy : 0.35829307568438\n",
      "Epoch n°474 ( 6.0 sec) : loss = 1.9445557594299316 ,validation loss =  2.1184849739074707 , accuracy : 0.3768466290625839 , validation accuracy : 0.36312399355877617\n",
      "Epoch n°475 ( 6.0 sec) : loss = 2.1216108798980713 ,validation loss =  2.12522554397583 , accuracy : 0.38651625033575077 , validation accuracy : 0.34299516908212563\n",
      "Epoch n°476 ( 6.0 sec) : loss = 2.0601260662078857 ,validation loss =  2.123192071914673 , accuracy : 0.381412839108246 , validation accuracy : 0.34057971014492755\n",
      "Epoch n°477 ( 6.0 sec) : loss = 2.0335540771484375 ,validation loss =  2.1244401931762695 , accuracy : 0.38087563792640344 , validation accuracy : 0.30998389694041867\n",
      "Epoch n°478 ( 6.0 sec) : loss = 2.128739833831787 ,validation loss =  2.127634286880493 , accuracy : 0.37254901960784315 , validation accuracy : 0.32367149758454106\n",
      "Epoch n°479 ( 6.0 sec) : loss = 2.1483044624328613 ,validation loss =  2.123805046081543 , accuracy : 0.3819500402900886 , validation accuracy : 0.3421900161030596\n",
      "Epoch n°480 ( 6.0 sec) : loss = 2.0003726482391357 ,validation loss =  2.108469247817993 , accuracy : 0.38571044856298686 , validation accuracy : 0.34541062801932365\n",
      "Epoch n°481 ( 6.0 sec) : loss = 2.016530990600586 ,validation loss =  2.126701593399048 , accuracy : 0.38678485092667203 , validation accuracy : 0.35668276972624796\n",
      "Epoch n°482 ( 6.0 sec) : loss = 1.964762568473816 ,validation loss =  2.099742889404297 , accuracy : 0.38248724147193125 , validation accuracy : 0.35909822866344604\n",
      "Epoch n°483 ( 6.0 sec) : loss = 2.1080634593963623 ,validation loss =  2.1186842918395996 , accuracy : 0.39323126510878326 , validation accuracy : 0.355877616747182\n",
      "Epoch n°484 ( 6.0 sec) : loss = 2.0286927223205566 ,validation loss =  2.1294338703155518 , accuracy : 0.39135106097233413 , validation accuracy : 0.3470209339774557\n",
      "Epoch n°485 ( 6.0 sec) : loss = 2.0894579887390137 ,validation loss =  2.1335558891296387 , accuracy : 0.39215686274509803 , validation accuracy : 0.34863123993558776\n",
      "Epoch n°486 ( 6.0 sec) : loss = 2.085692882537842 ,validation loss =  2.123549222946167 , accuracy : 0.3951114692452323 , validation accuracy : 0.3325281803542673\n",
      "Epoch n°487 ( 6.0 sec) : loss = 2.1379454135894775 ,validation loss =  2.1093902587890625 , accuracy : 0.3806070373354821 , validation accuracy : 0.35909822866344604\n",
      "Epoch n°488 ( 6.0 sec) : loss = 2.080066680908203 ,validation loss =  2.124601364135742 , accuracy : 0.3736234219715283 , validation accuracy : 0.3276972624798712\n",
      "Epoch n°489 ( 6.0 sec) : loss = 2.0603270530700684 ,validation loss =  2.126506805419922 , accuracy : 0.37953263497179696 , validation accuracy : 0.33735909822866345\n",
      "Epoch n°490 ( 6.0 sec) : loss = 2.109065532684326 ,validation loss =  2.1241347789764404 , accuracy : 0.37416062315337095 , validation accuracy : 0.32608695652173914\n",
      "Epoch n°491 ( 6.0 sec) : loss = 2.1098623275756836 ,validation loss =  2.12197208404541 , accuracy : 0.37201181842600056 , validation accuracy : 0.33413848631239934\n",
      "Epoch n°492 ( 6.0 sec) : loss = 2.047319173812866 ,validation loss =  2.1238479614257812 , accuracy : 0.38785925329035725 , validation accuracy : 0.32608695652173914\n",
      "Epoch n°493 ( 6.0 sec) : loss = 2.053297519683838 ,validation loss =  2.125783920288086 , accuracy : 0.3644910018802041 , validation accuracy : 0.34299516908212563\n",
      "Epoch n°494 ( 6.0 sec) : loss = 1.996326208114624 ,validation loss =  2.138821601867676 , accuracy : 0.37711522965350525 , validation accuracy : 0.3438003220611916\n",
      "Epoch n°495 ( 6.0 sec) : loss = 2.0644772052764893 ,validation loss =  2.1113879680633545 , accuracy : 0.39161966156325545 , validation accuracy : 0.35104669887278583\n",
      "Epoch n°496 ( 6.0 sec) : loss = 2.1083195209503174 ,validation loss =  2.128366470336914 , accuracy : 0.39564867042707497 , validation accuracy : 0.3526570048309179\n",
      "Epoch n°497 ( 6.0 sec) : loss = 2.1453869342803955 ,validation loss =  2.1182990074157715 , accuracy : 0.38490464679022296 , validation accuracy : 0.3357487922705314\n",
      "Epoch n°498 ( 6.0 sec) : loss = 2.066169500350952 ,validation loss =  2.1027915477752686 , accuracy : 0.38947085683588506 , validation accuracy : 0.3687600644122383\n",
      "Epoch n°499 ( 6.0 sec) : loss = 2.0802783966064453 ,validation loss =  2.1185412406921387 , accuracy : 0.38947085683588506 , validation accuracy : 0.35668276972624796\n",
      "Epoch n°500 ( 6.0 sec) : loss = 1.9746445417404175 ,validation loss =  2.121401071548462 , accuracy : 0.3819500402900886 , validation accuracy : 0.3687600644122383\n",
      "Epoch n°501 ( 6.0 sec) : loss = 2.0754799842834473 ,validation loss =  2.1126277446746826 , accuracy : 0.39484286865431106 , validation accuracy : 0.3309178743961353\n",
      "Epoch n°502 ( 6.0 sec) : loss = 2.0759541988372803 ,validation loss =  2.106999635696411 , accuracy : 0.37550362610797744 , validation accuracy : 0.32608695652173914\n",
      "Epoch n°503 ( 6.0 sec) : loss = 2.132667064666748 ,validation loss =  2.115771770477295 , accuracy : 0.3827558420628525 , validation accuracy : 0.3526570048309179\n",
      "Epoch n°504 ( 6.0 sec) : loss = 2.1825921535491943 ,validation loss =  2.1060779094696045 , accuracy : 0.3926940639269406 , validation accuracy : 0.35909822866344604\n",
      "Epoch n°505 ( 6.0 sec) : loss = 2.0670979022979736 ,validation loss =  2.1083145141601562 , accuracy : 0.37254901960784315 , validation accuracy : 0.35668276972624796\n",
      "Epoch n°506 ( 6.0 sec) : loss = 1.9835647344589233 ,validation loss =  2.1178154945373535 , accuracy : 0.370668815471394 , validation accuracy : 0.33172302737520126\n",
      "Epoch n°507 ( 6.0 sec) : loss = 2.0745279788970947 ,validation loss =  2.1161012649536133 , accuracy : 0.38544184797206554 , validation accuracy : 0.3309178743961353\n",
      "Epoch n°508 ( 6.0 sec) : loss = 2.106100082397461 ,validation loss =  2.1132235527038574 , accuracy : 0.36717700778941714 , validation accuracy : 0.3534621578099839\n",
      "Epoch n°509 ( 6.0 sec) : loss = 2.00844669342041 ,validation loss =  2.1125285625457764 , accuracy : 0.36475960247112543 , validation accuracy : 0.33494363929146537\n",
      "Epoch n°510 ( 6.0 sec) : loss = 2.0581986904144287 ,validation loss =  2.107668399810791 , accuracy : 0.370668815471394 , validation accuracy : 0.3285024154589372\n",
      "Epoch n°511 ( 6.0 sec) : loss = 2.156404972076416 ,validation loss =  2.1155123710632324 , accuracy : 0.38705345151759335 , validation accuracy : 0.357487922705314\n",
      "Epoch n°512 ( 6.0 sec) : loss = 2.1346189975738525 ,validation loss =  2.1196129322052 , accuracy : 0.38409884501745906 , validation accuracy : 0.34057971014492755\n",
      "Epoch n°513 ( 6.0 sec) : loss = 2.0201632976531982 ,validation loss =  2.120828151702881 , accuracy : 0.37604082728982 , validation accuracy : 0.3446054750402576\n",
      "Epoch n°514 ( 6.0 sec) : loss = 2.0719211101531982 ,validation loss =  2.1131718158721924 , accuracy : 0.3722804190169218 , validation accuracy : 0.3413848631239936\n",
      "Epoch n°515 ( 6.0 sec) : loss = 2.0207297801971436 ,validation loss =  2.087549924850464 , accuracy : 0.38033843674456086 , validation accuracy : 0.34863123993558776\n",
      "Epoch n°516 ( 6.0 sec) : loss = 2.129084825515747 ,validation loss =  2.1139895915985107 , accuracy : 0.3722804190169218 , validation accuracy : 0.33735909822866345\n",
      "Epoch n°517 ( 6.0 sec) : loss = 2.0666146278381348 ,validation loss =  2.1088736057281494 , accuracy : 0.38087563792640344 , validation accuracy : 0.3397745571658615\n",
      "Epoch n°518 ( 6.0 sec) : loss = 2.229842185974121 ,validation loss =  2.1009175777435303 , accuracy : 0.381412839108246 , validation accuracy : 0.3438003220611916\n",
      "Epoch n°519 ( 6.0 sec) : loss = 2.0879204273223877 ,validation loss =  2.1002228260040283 , accuracy : 0.37389202256244963 , validation accuracy : 0.3470209339774557\n",
      "Epoch n°520 ( 6.0 sec) : loss = 2.114126682281494 ,validation loss =  2.1110689640045166 , accuracy : 0.39027665860864896 , validation accuracy : 0.37359098228663445\n",
      "Epoch n°521 ( 6.0 sec) : loss = 2.0486743450164795 ,validation loss =  2.111046075820923 , accuracy : 0.37926403438087564 , validation accuracy : 0.34782608695652173\n",
      "Epoch n°522 ( 6.0 sec) : loss = 2.1952176094055176 ,validation loss =  2.1118180751800537 , accuracy : 0.37872683319903305 , validation accuracy : 0.34863123993558776\n",
      "Epoch n°523 ( 6.0 sec) : loss = 2.014920949935913 ,validation loss =  2.1164333820343018 , accuracy : 0.38785925329035725 , validation accuracy : 0.3534621578099839\n",
      "Epoch n°524 ( 6.0 sec) : loss = 2.159424304962158 ,validation loss =  2.10593318939209 , accuracy : 0.37093741606231534 , validation accuracy : 0.3470209339774557\n",
      "Epoch n°525 ( 6.0 sec) : loss = 2.054157257080078 ,validation loss =  2.1098248958587646 , accuracy : 0.3905452591995702 , validation accuracy : 0.35668276972624796\n",
      "Epoch n°526 ( 6.0 sec) : loss = 2.101759910583496 ,validation loss =  2.120006561279297 , accuracy : 0.3943056674724684 , validation accuracy : 0.3276972624798712\n",
      "Epoch n°527 ( 6.0 sec) : loss = 2.124263286590576 ,validation loss =  2.0984747409820557 , accuracy : 0.38383024442653774 , validation accuracy : 0.3252818035426731\n",
      "Epoch n°528 ( 6.0 sec) : loss = 2.004986524581909 ,validation loss =  2.105412244796753 , accuracy : 0.38839645447219984 , validation accuracy : 0.3413848631239936\n",
      "Epoch n°529 ( 6.0 sec) : loss = 1.9400757551193237 ,validation loss =  2.114593267440796 , accuracy : 0.37389202256244963 , validation accuracy : 0.35426731078904994\n",
      "Epoch n°530 ( 6.0 sec) : loss = 2.040933609008789 ,validation loss =  2.1334290504455566 , accuracy : 0.38168143969916735 , validation accuracy : 0.3397745571658615\n",
      "Epoch n°531 ( 6.0 sec) : loss = 2.0643742084503174 ,validation loss =  2.1273727416992188 , accuracy : 0.3806070373354821 , validation accuracy : 0.3462157809983897\n",
      "Epoch n°532 ( 6.0 sec) : loss = 2.0831546783447266 ,validation loss =  2.1241722106933594 , accuracy : 0.3744292237442922 , validation accuracy : 0.3413848631239936\n",
      "Epoch n°533 ( 6.0 sec) : loss = 2.0604214668273926 ,validation loss =  2.1296491622924805 , accuracy : 0.37201181842600056 , validation accuracy : 0.3357487922705314\n",
      "Epoch n°534 ( 6.0 sec) : loss = 2.1135168075561523 ,validation loss =  2.1177592277526855 , accuracy : 0.39161966156325545 , validation accuracy : 0.32045088566827695\n",
      "Epoch n°535 ( 6.0 sec) : loss = 2.1556427478790283 ,validation loss =  2.116950750350952 , accuracy : 0.3918882621541767 , validation accuracy : 0.33735909822866345\n",
      "Epoch n°536 ( 6.0 sec) : loss = 2.1061224937438965 ,validation loss =  2.1072959899902344 , accuracy : 0.38785925329035725 , validation accuracy : 0.3244766505636071\n",
      "Epoch n°537 ( 6.0 sec) : loss = 2.0157248973846436 ,validation loss =  2.1149373054504395 , accuracy : 0.37792103142626915 , validation accuracy : 0.35104669887278583\n",
      "Epoch n°538 ( 6.0 sec) : loss = 2.1049702167510986 ,validation loss =  2.114403486251831 , accuracy : 0.39564867042707497 , validation accuracy : 0.3365539452495974\n",
      "Epoch n°539 ( 6.0 sec) : loss = 2.0921406745910645 ,validation loss =  2.112981081008911 , accuracy : 0.3859790491539081 , validation accuracy : 0.3534621578099839\n",
      "Epoch n°540 ( 6.0 sec) : loss = 2.017200469970703 ,validation loss =  2.1124069690704346 , accuracy : 0.37845823260811173 , validation accuracy : 0.3325281803542673\n",
      "Epoch n°541 ( 6.0 sec) : loss = 2.105448007583618 ,validation loss =  2.103983163833618 , accuracy : 0.39833467633628794 , validation accuracy : 0.3285024154589372\n",
      "Epoch n°542 ( 6.0 sec) : loss = 2.163511276245117 ,validation loss =  2.1168057918548584 , accuracy : 0.38705345151759335 , validation accuracy : 0.355877616747182\n",
      "Epoch n°543 ( 6.0 sec) : loss = 2.0809717178344727 ,validation loss =  2.112427234649658 , accuracy : 0.38114423851732476 , validation accuracy : 0.32286634460547503\n",
      "Epoch n°544 ( 6.0 sec) : loss = 2.1217501163482666 ,validation loss =  2.1186325550079346 , accuracy : 0.38920225624496374 , validation accuracy : 0.3333333333333333\n",
      "Epoch n°545 ( 6.0 sec) : loss = 2.1323964595794678 ,validation loss =  2.126798629760742 , accuracy : 0.38651625033575077 , validation accuracy : 0.33735909822866345\n",
      "Epoch n°546 ( 6.0 sec) : loss = 2.0912654399871826 ,validation loss =  2.1183829307556152 , accuracy : 0.3806070373354821 , validation accuracy : 0.33735909822866345\n",
      "Epoch n°547 ( 6.0 sec) : loss = 2.1591780185699463 ,validation loss =  2.118260383605957 , accuracy : 0.3806070373354821 , validation accuracy : 0.34057971014492755\n",
      "Epoch n°548 ( 6.0 sec) : loss = 2.064572811126709 ,validation loss =  2.1282942295074463 , accuracy : 0.3789954337899543 , validation accuracy : 0.3526570048309179\n",
      "Epoch n°549 ( 6.0 sec) : loss = 2.1710236072540283 ,validation loss =  2.1177985668182373 , accuracy : 0.37174321783507924 , validation accuracy : 0.321256038647343\n",
      "Epoch n°550 ( 6.0 sec) : loss = 2.096193313598633 ,validation loss =  2.1383824348449707 , accuracy : 0.37174321783507924 , validation accuracy : 0.35990338164251207\n",
      "Epoch n°551 ( 6.0 sec) : loss = 2.0205047130584717 ,validation loss =  2.1159231662750244 , accuracy : 0.3736234219715283 , validation accuracy : 0.33816425120772947\n",
      "Epoch n°552 ( 6.0 sec) : loss = 2.121406078338623 ,validation loss =  2.1231536865234375 , accuracy : 0.365296803652968 , validation accuracy : 0.33494363929146537\n",
      "Epoch n°553 ( 6.0 sec) : loss = 2.0072734355926514 ,validation loss =  2.1352598667144775 , accuracy : 0.3636852001074402 , validation accuracy : 0.3252818035426731\n",
      "Epoch n°554 ( 6.0 sec) : loss = 2.114340305328369 ,validation loss =  2.147066116333008 , accuracy : 0.37013161428955144 , validation accuracy : 0.3413848631239936\n",
      "Epoch n°555 ( 6.0 sec) : loss = 2.1168019771575928 ,validation loss =  2.1145527362823486 , accuracy : 0.36556540424388934 , validation accuracy : 0.3188405797101449\n",
      "Epoch n°556 ( 6.0 sec) : loss = 2.1972875595092773 ,validation loss =  2.1229500770568848 , accuracy : 0.3714746172441579 , validation accuracy : 0.3333333333333333\n",
      "Epoch n°557 ( 6.0 sec) : loss = 2.136974334716797 ,validation loss =  2.137357473373413 , accuracy : 0.3591189900617781 , validation accuracy : 0.30515297906602257\n",
      "Epoch n°558 ( 6.0 sec) : loss = 2.1730401515960693 ,validation loss =  2.1317434310913086 , accuracy : 0.359924791834542 , validation accuracy : 0.3325281803542673\n",
      "Epoch n°559 ( 6.0 sec) : loss = 2.0560927391052246 ,validation loss =  2.12020206451416 , accuracy : 0.36287939833467636 , validation accuracy : 0.3107890499194847\n",
      "Epoch n°560 ( 6.0 sec) : loss = 2.1106441020965576 ,validation loss =  2.123934507369995 , accuracy : 0.3470319634703196 , validation accuracy : 0.31803542673107893\n",
      "Epoch n°561 ( 6.0 sec) : loss = 2.06892728805542 ,validation loss =  2.138371229171753 , accuracy : 0.35831318828901426 , validation accuracy : 0.32286634460547503\n",
      "Epoch n°562 ( 6.0 sec) : loss = 2.1800732612609863 ,validation loss =  2.1294450759887695 , accuracy : 0.35106097233413913 , validation accuracy : 0.322061191626409\n",
      "Epoch n°563 ( 6.0 sec) : loss = 2.0144996643066406 ,validation loss =  2.1277480125427246 , accuracy : 0.3569701853344077 , validation accuracy : 0.30434782608695654\n",
      "Epoch n°564 ( 6.0 sec) : loss = 2.0793285369873047 ,validation loss =  2.140205144882202 , accuracy : 0.35267257587966694 , validation accuracy : 0.31803542673107893\n",
      "Epoch n°565 ( 6.0 sec) : loss = 2.0758416652679443 ,validation loss =  2.1337008476257324 , accuracy : 0.35804458769809294 , validation accuracy : 0.3035426731078905\n",
      "Epoch n°566 ( 6.0 sec) : loss = 2.144080638885498 ,validation loss =  2.1293718814849854 , accuracy : 0.3607305936073059 , validation accuracy : 0.3115942028985507\n",
      "Epoch n°567 ( 6.0 sec) : loss = 2.1067862510681152 ,validation loss =  2.1114373207092285 , accuracy : 0.36637120601665324 , validation accuracy : 0.3309178743961353\n",
      "Epoch n°568 ( 6.0 sec) : loss = 2.176164388656616 ,validation loss =  2.107665538787842 , accuracy : 0.36663980660757456 , validation accuracy : 0.3389694041867955\n",
      "Epoch n°569 ( 6.0 sec) : loss = 1.9695866107940674 ,validation loss =  2.1271324157714844 , accuracy : 0.36019339242546333 , validation accuracy : 0.34057971014492755\n",
      "Epoch n°570 ( 6.0 sec) : loss = 2.025588035583496 ,validation loss =  2.1160290241241455 , accuracy : 0.370668815471394 , validation accuracy : 0.35104669887278583\n",
      "Epoch n°571 ( 6.0 sec) : loss = 2.051562547683716 ,validation loss =  2.1239888668060303 , accuracy : 0.37630942788074134 , validation accuracy : 0.3172302737520129\n",
      "Epoch n°572 ( 6.0 sec) : loss = 2.1241631507873535 ,validation loss =  2.12196683883667 , accuracy : 0.37765243083534783 , validation accuracy : 0.3325281803542673\n",
      "Epoch n°573 ( 6.0 sec) : loss = 2.0890328884124756 ,validation loss =  2.121220827102661 , accuracy : 0.3690572119258662 , validation accuracy : 0.3389694041867955\n",
      "Epoch n°574 ( 6.0 sec) : loss = 2.074573516845703 ,validation loss =  2.1160926818847656 , accuracy : 0.37120601665323666 , validation accuracy : 0.34057971014492755\n",
      "Epoch n°575 ( 6.0 sec) : loss = 2.1998910903930664 ,validation loss =  2.117825746536255 , accuracy : 0.37496642492613486 , validation accuracy : 0.3276972624798712\n",
      "Epoch n°576 ( 6.0 sec) : loss = 2.049232006072998 ,validation loss =  2.1063315868377686 , accuracy : 0.3736234219715283 , validation accuracy : 0.3365539452495974\n",
      "Epoch n°577 ( 6.0 sec) : loss = 2.0476391315460205 ,validation loss =  2.11277437210083 , accuracy : 0.3768466290625839 , validation accuracy : 0.35909822866344604\n",
      "Epoch n°578 ( 6.0 sec) : loss = 2.128281831741333 ,validation loss =  2.1160316467285156 , accuracy : 0.37013161428955144 , validation accuracy : 0.3438003220611916\n",
      "Epoch n°579 ( 6.0 sec) : loss = 2.1921331882476807 ,validation loss =  2.102339744567871 , accuracy : 0.3698630136986301 , validation accuracy : 0.3365539452495974\n",
      "Epoch n°580 ( 6.0 sec) : loss = 2.1150832176208496 ,validation loss =  2.1362385749816895 , accuracy : 0.37254901960784315 , validation accuracy : 0.3446054750402576\n",
      "Epoch n°581 ( 6.0 sec) : loss = 2.116122245788574 ,validation loss =  2.100452423095703 , accuracy : 0.3781896320171904 , validation accuracy : 0.33413848631239934\n",
      "Epoch n°582 ( 6.0 sec) : loss = 2.101853847503662 ,validation loss =  2.103309154510498 , accuracy : 0.37630942788074134 , validation accuracy : 0.3276972624798712\n",
      "Epoch n°583 ( 6.0 sec) : loss = 2.1069819927215576 ,validation loss =  2.10595965385437 , accuracy : 0.3835616438356164 , validation accuracy : 0.3526570048309179\n",
      "Epoch n°584 ( 6.0 sec) : loss = 2.1728146076202393 ,validation loss =  2.1123125553131104 , accuracy : 0.3806070373354821 , validation accuracy : 0.3470209339774557\n",
      "Epoch n°585 ( 6.0 sec) : loss = 1.9071818590164185 ,validation loss =  2.1053626537323 , accuracy : 0.3943056674724684 , validation accuracy : 0.34299516908212563\n",
      "Epoch n°586 ( 6.0 sec) : loss = 2.149794816970825 ,validation loss =  2.119616985321045 , accuracy : 0.37496642492613486 , validation accuracy : 0.3365539452495974\n",
      "Epoch n°587 ( 6.0 sec) : loss = 2.0761477947235107 ,validation loss =  2.105912685394287 , accuracy : 0.39081385979049155 , validation accuracy : 0.34782608695652173\n",
      "Epoch n°588 ( 6.0 sec) : loss = 2.086979389190674 ,validation loss =  2.116896867752075 , accuracy : 0.3781896320171904 , validation accuracy : 0.322061191626409\n",
      "Epoch n°589 ( 7.0 sec) : loss = 2.040799379348755 ,validation loss =  2.1026387214660645 , accuracy : 0.3736234219715283 , validation accuracy : 0.3413848631239936\n",
      "Epoch n°590 ( 6.0 sec) : loss = 2.2117111682891846 ,validation loss =  2.0978310108184814 , accuracy : 0.38329304324469515 , validation accuracy : 0.33413848631239934\n",
      "Epoch n°591 ( 6.0 sec) : loss = 2.067852020263672 ,validation loss =  2.1118712425231934 , accuracy : 0.3873220521085146 , validation accuracy : 0.3389694041867955\n",
      "Epoch n°592 ( 6.0 sec) : loss = 2.0306856632232666 ,validation loss =  2.104916572570801 , accuracy : 0.3677142089712597 , validation accuracy : 0.3470209339774557\n",
      "Epoch n°593 ( 6.0 sec) : loss = 2.110563039779663 ,validation loss =  2.1170592308044434 , accuracy : 0.38087563792640344 , validation accuracy : 0.34782608695652173\n",
      "Epoch n°594 ( 6.0 sec) : loss = 2.1665234565734863 ,validation loss =  2.1085073947906494 , accuracy : 0.38544184797206554 , validation accuracy : 0.35426731078904994\n",
      "Epoch n°595 ( 6.0 sec) : loss = 2.189190149307251 ,validation loss =  2.1109604835510254 , accuracy : 0.38033843674456086 , validation accuracy : 0.3276972624798712\n",
      "Epoch n°596 ( 6.0 sec) : loss = 2.0423941612243652 ,validation loss =  2.1018807888031006 , accuracy : 0.37845823260811173 , validation accuracy : 0.35990338164251207\n",
      "Epoch n°597 ( 6.0 sec) : loss = 2.085766553878784 ,validation loss =  2.1110846996307373 , accuracy : 0.38544184797206554 , validation accuracy : 0.3389694041867955\n",
      "Epoch n°598 ( 6.0 sec) : loss = 2.092641592025757 ,validation loss =  2.124937057495117 , accuracy : 0.39242546333601935 , validation accuracy : 0.3639291465378422\n",
      "Epoch n°599 ( 6.0 sec) : loss = 2.265059471130371 ,validation loss =  2.100633382797241 , accuracy : 0.38302444265377383 , validation accuracy : 0.3389694041867955\n",
      "Training finished\n"
     ]
    }
   ],
   "source": [
    "MOM_CNN = MOM_training.mom_net(CNN_ , optimizer , loss_ , random_seed = random_seed, n_epochs = 600 , batch_size = 32, n_hist = 400)\n",
    "MOM_CNN.fit(data_train, data_test)\n",
    "#torch.save(MOM_CNN.model.state_dict(), \"models/multiclass_CNN_1\")"
   ]
  },
  {
   "cell_type": "code",
   "execution_count": 20,
   "metadata": {},
   "outputs": [],
   "source": [
    "history = MOM_CNN.history"
   ]
  },
  {
   "cell_type": "code",
   "execution_count": 21,
   "metadata": {},
   "outputs": [
    {
     "data": {
      "text/plain": [
       "Text(0.5, 1.0, 'Training curve')"
      ]
     },
     "execution_count": 21,
     "metadata": {},
     "output_type": "execute_result"
    },
    {
     "data": {
      "image/png": "[encoded data removed]",
      "text/plain": [
       "<Figure size 432x288 with 1 Axes>"
      ]
     },
     "metadata": {
      "needs_background": "light"
     },
     "output_type": "display_data"
    }
   ],
   "source": [
    "%matplotlib inline\n",
    "plt.plot(history['loss'] , color = \"blue\" , label = \"loss\")\n",
    "plt.plot(history['val_loss'] , color = 'orange' , label = \"Validation loss\")\n",
    "plt.legend()\n",
    "plt.xlabel(\"Epochs\")\n",
    "plt.ylabel(\"Loss\")\n",
    "plt.title(\"Training curve\")"
   ]
  },
  {
   "cell_type": "code",
   "execution_count": 22,
   "metadata": {},
   "outputs": [
    {
     "data": {
      "text/plain": [
       "Text(0.5, 1.0, 'Training curve')"
      ]
     },
     "execution_count": 22,
     "metadata": {},
     "output_type": "execute_result"
    },
    {
     "data": {
      "image/png": "[encoded data removed]",
      "text/plain": [
       "<Figure size 432x288 with 1 Axes>"
      ]
     },
     "metadata": {
      "needs_background": "light"
     },
     "output_type": "display_data"
    }
   ],
   "source": [
    "%matplotlib inline\n",
    "plt.plot(history['acc'] , color = \"blue\" , label = \"accuracy\")\n",
    "plt.plot(history['val_acc'] , color = 'orange' , label = \"Validation accuracy\")\n",
    "plt.legend()\n",
    "plt.xlabel(\"Epochs\")\n",
    "plt.ylabel(\"Loss\")\n",
    "plt.title(\"Training curve\")"
   ]
  },
  {
   "cell_type": "markdown",
   "metadata": {},
   "source": [
    "#### Model evaluation"
   ]
  },
  {
   "cell_type": "code",
   "execution_count": 28,
   "metadata": {},
   "outputs": [],
   "source": [
    "%matplotlib inline\n",
    "\n",
    "test_data_x = torch.stack([data_test[i][0] for i in range(len(data_test))]).float()\n",
    "test_data_y = torch.stack([data_test[i][1] for i in range(len(data_test))]).long()\n",
    "X = torch.Tensor(test_data_x)\n",
    "Y = torch.LongTensor(test_data_y)\n",
    "    \n",
    "Y_pred = CNN_(X)\n",
    "Y_real = np.array(Y)\n",
    "#cm = confusion_matrix(Y_real , Y_pred)\n",
    "\n",
    "#plot_confusion_matrix(cm , ['crocodile','pinguin'])"
   ]
  },
  {
   "cell_type": "code",
   "execution_count": 29,
   "metadata": {},
   "outputs": [
    {
     "data": {
      "text/plain": [
       "array([1, 0, 6, ..., 1, 8, 6])"
      ]
     },
     "execution_count": 29,
     "metadata": {},
     "output_type": "execute_result"
    }
   ],
   "source": [
    "l = []\n",
    "for i in Y_pred.detach().numpy():\n",
    "    l.append(np.argmax(i))\n",
    "np.array(l)"
   ]
  },
  {
   "cell_type": "code",
   "execution_count": 30,
   "metadata": {},
   "outputs": [
    {
     "name": "stdout",
     "output_type": "stream",
     "text": [
      "Normalized confusion matrix\n",
      "[[0.70940171 0.         0.17094017 0.02564103 0.00854701 0.01709402\n",
      "  0.03418803 0.02564103 0.00854701 0.        ]\n",
      " [0.008      0.76       0.016      0.136      0.008      0.008\n",
      "  0.016      0.032      0.         0.016     ]\n",
      " [0.05737705 0.00819672 0.6557377  0.18852459 0.01639344 0.00819672\n",
      "  0.04918033 0.00819672 0.00819672 0.        ]\n",
      " [0.02608696 0.03478261 0.10434783 0.73043478 0.         0.00869565\n",
      "  0.00869565 0.06086957 0.         0.02608696]\n",
      " [0.0859375  0.0234375  0.046875   0.1953125  0.4140625  0.015625\n",
      "  0.109375   0.03125    0.0234375  0.0546875 ]\n",
      " [0.02307692 0.00769231 0.03846154 0.1        0.03076923 0.29230769\n",
      "  0.31538462 0.03076923 0.01538462 0.14615385]\n",
      " [0.0078125  0.0390625  0.         0.1015625  0.015625   0.0234375\n",
      "  0.6171875  0.0625     0.0546875  0.078125  ]\n",
      " [0.04385965 0.06140351 0.04385965 0.11403509 0.00877193 0.05263158\n",
      "  0.13157895 0.38596491 0.07894737 0.07894737]\n",
      " [0.00699301 0.         0.02797203 0.06993007 0.02097902 0.01398601\n",
      "  0.1958042  0.05594406 0.53846154 0.06993007]\n",
      " [0.00833333 0.03333333 0.025      0.13333333 0.04166667 0.06666667\n",
      "  0.21666667 0.01666667 0.06666667 0.39166667]]\n"
     ]
    },
    {
     "data": {
      "image/png": "[encoded data removed]",
      "text/plain": [
       "<Figure size 432x288 with 2 Axes>"
      ]
     },
     "metadata": {
      "needs_background": "light"
     },
     "output_type": "display_data"
    }
   ],
   "source": [
    "%matplotlib inline\n",
    "cm = confusion_matrix(Y_real , l)\n",
    "\n",
    "utilities.plot_confusion_matrix(cm, [1,2,3,4,5,6,7,8,9,10], normalize = True)"
   ]
  },
  {
   "cell_type": "code",
   "execution_count": 31,
   "metadata": {},
   "outputs": [
    {
     "data": {
      "text/plain": [
       "0.5475040257648953"
      ]
     },
     "execution_count": 31,
     "metadata": {},
     "output_type": "execute_result"
    }
   ],
   "source": [
    "from sklearn.metrics import accuracy_score\n",
    "accuracy_score(Y_real , l)"
   ]
  },
  {
   "cell_type": "markdown",
   "metadata": {},
   "source": [
    "#### Outliers detection"
   ]
  },
  {
   "cell_type": "code",
   "execution_count": 32,
   "metadata": {},
   "outputs": [
    {
     "data": {
      "text/plain": [
       "array([5., 4., 5., ..., 2., 5., 7.])"
      ]
     },
     "execution_count": 32,
     "metadata": {},
     "output_type": "execute_result"
    },
    {
     "data": {
      "image/png": "[encoded data removed]",
      "text/plain": [
       "<Figure size 432x288 with 1 Axes>"
      ]
     },
     "metadata": {
      "needs_background": "light"
     },
     "output_type": "display_data"
    }
   ],
   "source": [
    "non_outliers = np.unique(MOM_CNN.history['hist'])\n",
    "plt.hist(MOM_CNN.history['hist'] , bins = np.arange(len(data_train)))[0]"
   ]
  },
  {
   "cell_type": "code",
   "execution_count": 33,
   "metadata": {},
   "outputs": [],
   "source": [
    "outliers = []\n",
    "\n",
    "for i in range(len(data_train)):\n",
    "    if i not in non_outliers:\n",
    "        outliers.append(i)"
   ]
  },
  {
   "cell_type": "code",
   "execution_count": 34,
   "metadata": {},
   "outputs": [],
   "source": [
    "dico = {0: 0, 1: 0, 2: 0, 3: 0, 4: 0, 5: 0, 6: 0, 7: 0, 8 : 0, 9 : 0}\n",
    "for i in outliers : \n",
    "    dico[int(data_train[i][1])] += 1"
   ]
  },
  {
   "cell_type": "code",
   "execution_count": 35,
   "metadata": {},
   "outputs": [
    {
     "data": {
      "text/plain": [
       "{0: 10, 1: 12, 2: 12, 3: 12, 4: 9, 5: 14, 6: 8, 7: 11, 8: 12, 9: 12}"
      ]
     },
     "execution_count": 35,
     "metadata": {},
     "output_type": "execute_result"
    }
   ],
   "source": [
    "dico"
   ]
  }
 ],
 "metadata": {
  "kernelspec": {
   "display_name": "Python 3",
   "language": "python",
   "name": "python3"
  },
  "language_info": {
   "codemirror_mode": {
    "name": "ipython",
    "version": 3
   },
   "file_extension": ".py",
   "mimetype": "text/x-python",
   "name": "python",
   "nbconvert_exporter": "python",
   "pygments_lexer": "ipython3",
   "version": "3.5.2"
  }
 },
 "nbformat": 4,
 "nbformat_minor": 2
}
